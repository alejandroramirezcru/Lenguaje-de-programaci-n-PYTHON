{
  "nbformat": 4,
  "nbformat_minor": 0,
  "metadata": {
    "colab": {
      "provenance": []
    },
    "kernelspec": {
      "name": "python3",
      "display_name": "Python 3"
    },
    "language_info": {
      "name": "python"
    }
  },
  "cells": [
    {
      "cell_type": "markdown",
      "source": [
        "# **Actividad 5: Lista, Range y Random en Python**\n",
        "*Nombre: Alejandro Ramirez Cruz*\n",
        "\n",
        "*Matricula: 379551*\n",
        "\n",
        "*Fecha: Lunes 15 septiembre de 2025*"
      ],
      "metadata": {
        "id": "ZT3Sy6nOQ42T"
      }
    },
    {
      "cell_type": "markdown",
      "source": [
        "## Ejercicio 1: Nombre de mascotas o artistas favoritos\n",
        "### Descripción:\n",
        "Crear una función que utilice una lista con los nombres de tus mascotas o artistas favoritos (mínimo 5, máximo 10). La función debe imprimir cada nombre junto con la cantidad de caracteres que contiene.\n",
        "\n",
        "###[Explicación del problema]:\n",
        "\n",
        "\n",
        "1. Crear una lista con nombres de mascotas o artistas favoritos.\n",
        "2. Recorrer la lista utilizando un ciclo for.\n",
        "3. Imprimir cada nombre junto con la longitud de la cadena (número de caracteres).\n",
        "### Solución:\n",
        "Se define una función llamada artistas_favoritos, dentro de la cual se crea una lista con los nombres de varios artistas.\n",
        "Luego, mediante un ciclo for, se recorre cada elemento de la lista y con la función len() se obtiene y muestra la cantidad de caracteres de cada nombre. Finalmente se llama a la función para ejecutarse."
      ],
      "metadata": {
        "id": "BA6clSsrRCO5"
      }
    },
    {
      "cell_type": "code",
      "execution_count": 34,
      "metadata": {
        "id": "hG2vbn4SQ277"
      },
      "outputs": [],
      "source": [
        "def artistas_favoritos():  # Funcion creada para mostrar nombre y total de caracteres\n",
        "    # Lista de artistas favoritos\n",
        "    art_favs = [\"José José\", \"Ariel Camacho\", \"Camilo Sesto\", \"Virlan Garcia\",\"Los Plebes del Rancho de Ariel Camacho\"]\n",
        "\n",
        "    # Encabezado de salida\n",
        "    print(\"=== Nombres de artistas favoritos y el total de caracteres ===\")\n",
        "\n",
        "    # Iterar sobre cada artista en la lista\n",
        "    for artista in art_favs:\n",
        "        # Mostrar el nombre del artista y la cantidad de caracteres de su nombre\n",
        "        print(f\"{artista} - {len(artista)} caracteres\")"
      ]
    },
    {
      "cell_type": "code",
      "source": [
        "artistas_favoritos()    # Llamar a la funcion"
      ],
      "metadata": {
        "colab": {
          "base_uri": "https://localhost:8080/"
        },
        "id": "qp4qT5DyVhKW",
        "outputId": "3468b918-6b64-455a-a113-9ef605b27c03"
      },
      "execution_count": 35,
      "outputs": [
        {
          "output_type": "stream",
          "name": "stdout",
          "text": [
            "=== Nombres de artistas favoritos y el total de caracteres ===\n",
            "José José - 9 caracteres\n",
            "Ariel Camacho - 13 caracteres\n",
            "Camilo Sesto - 12 caracteres\n",
            "Virlan Garcia - 13 caracteres\n",
            "Los Plebes del Rancho de Ariel Camacho - 38 caracteres\n"
          ]
        }
      ]
    },
    {
      "cell_type": "markdown",
      "source": [
        "## Ejercicio 2: Generación de números aleatorios\n",
        "### Descripción:\n",
        "Crear dos funciones:\n",
        "1. Una función que genere y regrese una lista con 10 números aleatorios entre 30 y 50 (sin repetidos).\n",
        "2. Una función que reciba una lista e imprima cada elemento junto con su índice.\n",
        "\n",
        "###[Explicación del problema]:\n",
        "1. Utilizar la biblioteca random para generar números aleatorios.\n",
        "\n",
        "2. Asegurarse de que no haya números repetidos en la lista.\n",
        "\n",
        "3. Recorrer la lista utilizando un ciclo for.\n",
        "### Solución:\n",
        "Se importa la biblioteca random para generar números aleatorios.\n",
        "Luego, se define una función llamada num_aleatorios, en la cual se usa random.sample, que devuelve una lista de 10 números únicos dentro del rango de 30 a 50.\n",
        "Posteriormente, se crea la función recibir_lista, que recibe la lista como parámetro y la recorre con un ciclo for utilizando enumerate(). De esta manera se obtiene el par (índice, valor) y se imprime cada elemento junto con su índice correspondiente.\n",
        "Finalmente, se llama a ambas funciones para ejecutar el programa."
      ],
      "metadata": {
        "id": "lZ35gt0ubHQT"
      }
    },
    {
      "cell_type": "code",
      "source": [
        "import random     # Importar la biblioteca 'random' para generar números aleatorios"
      ],
      "metadata": {
        "id": "VUfeXXhvbpSJ"
      },
      "execution_count": 36,
      "outputs": []
    },
    {
      "cell_type": "code",
      "source": [
        "def num_aleatorios():    # Funcion creada para generar numeros aleatorios\n",
        "    # random.sample genera una lista de 10 números sin repetir en el rango de 30 a 50\n",
        "    numeros = random.sample(range(30, 51), 10)  # El range(30, 51)' incluye del 30 al 50\n",
        "    return numeros  # Devuelve la lista de números generados\n",
        "\n",
        "# Funcion que imprime los elementos de una lista mostrando su índice y valor\n",
        "def recibir_lista(lista_num):\n",
        "    # enumerate devuelve pares (índice, valor) para iterar sobre la lista\n",
        "    for i, valor in enumerate(lista_num):\n",
        "        print(f\"[{i}] : {valor}\")  # Imprime índice y número correspondiente\n"
      ],
      "metadata": {
        "id": "brholr3RbZBN"
      },
      "execution_count": 37,
      "outputs": []
    },
    {
      "cell_type": "code",
      "source": [
        "lista = num_aleatorios()   # Genera la lista de números aleatorios\n",
        "\n",
        "print(\"Índice y números:\")  # Imprime un mensaje\n",
        "\n",
        "recibir_lista(lista)  # Llama a la funcion recibiendo a la lista"
      ],
      "metadata": {
        "colab": {
          "base_uri": "https://localhost:8080/"
        },
        "id": "yq_mbybKeYN1",
        "outputId": "873dad7f-8122-4b94-9d69-694d5332da9b"
      },
      "execution_count": 38,
      "outputs": [
        {
          "output_type": "stream",
          "name": "stdout",
          "text": [
            "Índice y números:\n",
            "[0] : 37\n",
            "[1] : 34\n",
            "[2] : 48\n",
            "[3] : 36\n",
            "[4] : 45\n",
            "[5] : 49\n",
            "[6] : 32\n",
            "[7] : 33\n",
            "[8] : 43\n",
            "[9] : 47\n"
          ]
        }
      ]
    },
    {
      "cell_type": "markdown",
      "source": [
        "## Ejercicio 3: Suma de elementos correspondientes\n",
        "### Descripción:\n",
        "Crear una función que reciba dos listas de números del mismo tamaño y\n",
        "calcule la suma de los elementos correspondientes de cada lista. Si las listas\n",
        "no son del mismo tamaño, usar el tamaño de la lista más pequeña.\n",
        "\n",
        "###[Explicación del problema]:\n",
        "1. Recibir dos listas como parámetros.\n",
        "\n",
        "2. Verificar si tienen el mismo tamaño y, si no, trabajar con la más corta.\n",
        "\n",
        "3. Recorrer ambas listas simultáneamente y sumar elemento a elemento.\n",
        "\n",
        "4. Guardar los resultados en una nueva lista.\n",
        "\n",
        "5. Devolver dicha lista con los valores sumados.\n",
        "### Solución:\n",
        "Se define la función suma_elementos, que recibe dos listas como parámetros. Dentro de un bloque try, se crea una lista local para almacenar los resultados. Se verifica si ambas listas tienen el mismo tamaño y se muestra un mensaje al usuario.\n",
        "\n",
        "Se determina el tamaño mínimo de las listas y se recorre cada índice hasta ese tamaño, sumando los elementos correspondientes y guardando la suma en lista_suma. Si ocurre algún error durante la ejecución, el bloque except captura la excepción y devuelve una lista vacía. En el bloque principal, se solicita al usuario la cantidad de elementos para cada lista y luego cada elemento individualmente, validando que sean números enteros.\n",
        "\n",
        "Si el usuario ingresa un valor incorrecto, se captura la excepción ValueError y se inicializan las listas vacías. Finalmente, se llama a la función suma_elementos con las listas ingresadas, se guarda el resultado y se imprimen las listas originales junto con la lista resultante de la suma."
      ],
      "metadata": {
        "id": "kcnxGoDkXVY4"
      }
    },
    {
      "cell_type": "code",
      "source": [
        "def suma_elementos(lista1, lista2):    # Función que recibe y suma dos listas\n",
        "\n",
        "    try:\n",
        "        # Lista local para resultados\n",
        "        lista_suma = []\n",
        "\n",
        "        # Verifica si las listas tienen el mismo tamaño\n",
        "        if len(lista1) == len(lista2):\n",
        "            print(\"Las listas tienen el mismo tamaño\")\n",
        "        else:\n",
        "            print(\"Las listas no tienen el mismo tamaño, se usará la más corta\")\n",
        "\n",
        "        # Determina el tamaño mínimo entre listas\n",
        "        tamaño = min(len(lista1), len(lista2))\n",
        "        print(f\"Tamaño a usar: {tamaño}\")\n",
        "\n",
        "        # Itera ambas listas simultáneamente\n",
        "        for i in range(tamaño):\n",
        "            # Suma los elementos\n",
        "            suma = lista1[i] + lista2[i]\n",
        "            # Guarda la suma en la lista de resultados\n",
        "            lista_suma.append(suma)\n",
        "\n",
        "        # Devuelve la lista con resultados\n",
        "        return lista_suma\n",
        "\n",
        "    except Exception as e:\n",
        "        # Captura errores inesperados en la función\n",
        "        print(\"Ocurrió un error:\", e)\n",
        "        return []\n"
      ],
      "metadata": {
        "id": "gn-rw1TqkBC_"
      },
      "execution_count": 39,
      "outputs": []
    },
    {
      "cell_type": "code",
      "source": [
        "# Bloque para pedir datos al usuario\n",
        "try:\n",
        "    # Se inicializan las listas vacias\n",
        "    lista1 = []\n",
        "    lista2 = []\n",
        "\n",
        "    # Se pide la cantidad de elementos para cada lista\n",
        "    elementos_lista1 = int(input(\"Ingrese el total de elementos de su lista 1: \"))\n",
        "    elementos_lista2 = int(input(\"Ingrese el total de elementos de su lista 2: \"))\n",
        "\n",
        "    # Se pide los elementos de la primera lista\n",
        "    for i in range(elementos_lista1):\n",
        "        elem1 = int(input(f\"Ingrese elemento {i+1} de la lista 1: \"))\n",
        "        lista1.append(elem1)\n",
        "\n",
        "    # Se pide los elementos de la segunda lista\n",
        "    for i in range(elementos_lista2):\n",
        "        elem2 = int(input(f\"Ingrese elemento {i+1} de la lista 2: \"))\n",
        "        lista2.append(elem2)\n",
        "\n",
        "except ValueError:\n",
        "    # Validación de entradas: si no son números enteros\n",
        "    print(\"Error: solo se permiten números enteros\")\n",
        "    lista1, lista2 = [], []  # Reinicializa las listas a vacias en caso de error\n",
        "\n",
        "# Se llama a la función y se guarda el resultado\n",
        "resultado = suma_elementos(lista1, lista2)\n",
        "\n",
        "# Imprime las listas originales y el resultado final\n",
        "print(\"Lista 1:\", lista1)\n",
        "print(\"Lista 2:\", lista2)\n",
        "print(\"Resultado:\", resultado)\n"
      ],
      "metadata": {
        "colab": {
          "base_uri": "https://localhost:8080/"
        },
        "id": "Vuod8evwoLHe",
        "outputId": "95a90b34-3d36-480e-deb2-f83cf8748111"
      },
      "execution_count": 29,
      "outputs": [
        {
          "output_type": "stream",
          "name": "stdout",
          "text": [
            "Ingrese el total de elementos de su lista 1: 3\n",
            "Ingrese el total de elementos de su lista 2: 3\n",
            "Ingrese elemento 1 de la lista 1: 10\n",
            "Ingrese elemento 2 de la lista 1: 12\n",
            "Ingrese elemento 3 de la lista 1: 2\n",
            "Ingrese elemento 1 de la lista 2: 1\n",
            "Ingrese elemento 2 de la lista 2: 2\n",
            "Ingrese elemento 3 de la lista 2: 3\n",
            "Las listas tienen el mismo tamaño\n",
            "Tamaño a usar: 3\n",
            "Lista 1: [10, 12, 2]\n",
            "Lista 2: [1, 2, 3]\n",
            "Resultado: [11, 14, 5]\n"
          ]
        }
      ]
    },
    {
      "cell_type": "markdown",
      "source": [
        "## Ejercicio 4: Eliminar duplicados\n",
        "### Descripción:\n",
        "Crear una función llamada eliminar_duplicados que reciba una lista como\n",
        "parámetro y elimine los elementos duplicados. El resultado debe ser una nueva\n",
        "lista sin duplicados.\n",
        "\n",
        "###[Explicación del problema]:\n",
        "1. Solicitar al usario la cantidad de elementos de la lista y los elementos\n",
        "2. Validar que todos los elementos sean números enteros\n",
        "3. Eliminar los duplicados de la lista original\n",
        "4. Manejar errores usando try-except\n",
        "5. Devolver la lista sin duplicados junto a la lista original\n",
        "### Solución:\n",
        "Se define la función eliminar_duplicados, que recibe la lista original como parámetro. Dentro de un bloque try, se verifica que todos los elementos sean enteros.\n",
        "\n",
        "La lista se convierte a un conjunto (set), lo que elimina automáticamente los elementos duplicados. Luego, se convierte el conjunto nuevamente a lista para devolverla. Si ocurre algún error durante la ejecución, el bloque except captura la excepción y devuelve una lista vacía. En el bloque principal, se solicita al usuario el número de elementos y cada elemento individualmente, validando que sean números enteros.\n",
        "\n",
        "Si el usuario ingresa un valor no entero, se captura la excepción ValueError y se muestra un mensaje de error. Finalmente, se llama a la función eliminar_duplicados con la lista ingresada y se imprime tanto la lista original como la lista resultante sin duplicados."
      ],
      "metadata": {
        "id": "FEsywg4pbDGB"
      }
    },
    {
      "cell_type": "code",
      "source": [
        "def eliminar_duplicados(lista_original):     # Función que elimina duplicados de una lista de enteros\n",
        "    try:\n",
        "        # Validar que todos los elementos sean enteros\n",
        "        if not all(isinstance(x, int) for x in lista_original):\n",
        "            raise ValueError(\"Todos los elementos deben ser números enteros\")\n",
        "\n",
        "        # Convertir la lista a un conjunto para eliminar duplicados\n",
        "        conjunto_sin_duplicados = set(lista_original)\n",
        "\n",
        "        # Convertir el conjunto nuevamente a lista\n",
        "        lista_sin_duplicados = list(conjunto_sin_duplicados)\n",
        "\n",
        "        # Regresa la lista sin duplicados\n",
        "        return lista_sin_duplicados\n",
        "\n",
        "    except Exception as e:\n",
        "        # Captura errores inesperados en la función\n",
        "        print(\"Ocurrió un error:\", e)\n",
        "        return []"
      ],
      "metadata": {
        "id": "qe1NtjU-5f3N"
      },
      "execution_count": 30,
      "outputs": []
    },
    {
      "cell_type": "code",
      "source": [
        "# Bloque para capturar la lista desde el usuario\n",
        "lista_original = []\n",
        "try:\n",
        "    elementos = int(input(\"Ingrese el total de elementos de la lista: \"))\n",
        "    for i in range(elementos):\n",
        "        numeros = int(input(f\"Ingrese elemento {i+1}: \"))\n",
        "        lista_original.append(numeros) # Agrega los elementos a la lista\n",
        "except ValueError:\n",
        "    # Validación de entradas: si no son números enteros\n",
        "    print(\"Error: Solo se permiten números enteros\")\n",
        "\n",
        "# Se llama a la función y se guarda el resultado\n",
        "resultado = eliminar_duplicados(lista_original)\n",
        "\n",
        "# Imprime las listas originales y el resultado final\n",
        "print(\"Lista original:\", lista_original)\n",
        "print(\"Lista sin duplicados:\", resultado)"
      ],
      "metadata": {
        "colab": {
          "base_uri": "https://localhost:8080/"
        },
        "id": "dY2LEqzf7FvU",
        "outputId": "deeae8c7-19ec-44ea-a2b3-01d35bf0e985"
      },
      "execution_count": 31,
      "outputs": [
        {
          "output_type": "stream",
          "name": "stdout",
          "text": [
            "Ingrese el total de elementos de la lista: 3\n",
            "Ingrese elemento 1: 1\n",
            "Ingrese elemento 2: 1\n",
            "Ingrese elemento 3: 2\n",
            "Lista original: [1, 1, 2]\n",
            "Lista sin duplicados: [1, 2]\n"
          ]
        }
      ]
    },
    {
      "cell_type": "markdown",
      "source": [
        "## Ejercicio 5: Media y mediana\n",
        "### Descripción:\n",
        "Crear una función que calcule la media y la mediana de una lista de números\n",
        "enteros.\n",
        "\n",
        "###[Explicación del problema]:\n",
        "1. Crear una función que reciba una lista.\n",
        "2. Calcular la media dividiendo la suma de los elementos entre su longitud.\n",
        "3. Ordenar la lista y calcular la mediana según su tamaño.\n",
        "4. Retornar ambos valores.\n",
        "### Solución:\n",
        "Se creó la función media_y_mediana, que recibe una lista de números ingresados por el usuario.\n",
        "Primero se calcula la media utilizando sum() y len().\n",
        "Luego, la lista se ordena con sort() para poder calcular la mediana, diferenciando si la cantidad de elementos es par o impar.\n",
        "Finalmente, la función imprime tanto la media como la mediana de los números de la lista."
      ],
      "metadata": {
        "id": "GSQD7FYYtq_F"
      }
    },
    {
      "cell_type": "code",
      "source": [
        "def media_y_mediana(lista_num):     # Función que calcula la media y la mediana de una lista de números\n",
        "\n",
        "    # Calcular la media usando sum() y len()\n",
        "    media = sum(lista_num) / len(lista_num)\n",
        "\n",
        "    # Ordenar la lista para calcular la mediana\n",
        "    lista_num.sort()\n",
        "\n",
        "    # Calcular la mediana según si el número de elementos es par o impar\n",
        "    n = len(lista_num)\n",
        "\n",
        "    if n % 2 == 0:    # Si es par\n",
        "        mediana = (lista_num[n // 2 - 1] + lista_num[n // 2]) / 2\n",
        "    else:       # Si es impar\n",
        "        mediana = lista_num[n // 2]\n",
        "\n",
        "    # Imprime los resultados\n",
        "    print(f\"Media de números: {media}\")\n",
        "    print(f\"Mediana de números: {mediana}\")"
      ],
      "metadata": {
        "id": "PIN1sSsTt3eb"
      },
      "execution_count": 32,
      "outputs": []
    },
    {
      "cell_type": "code",
      "source": [
        "# Bloque para capturar 5 números ingresados por el usuario\n",
        "lista = []\n",
        "for i in range(5):\n",
        "    numeros = int(input(f\"Ingrese número {i+1} para la lista: \"))\n",
        "    lista.append(numeros)\n",
        "\n",
        "# Llamar a la función con la lista\n",
        "media_y_mediana(lista)"
      ],
      "metadata": {
        "colab": {
          "base_uri": "https://localhost:8080/"
        },
        "id": "An72ve8_vOke",
        "outputId": "e96e0b48-dde9-482b-bdf2-209a815b4e83"
      },
      "execution_count": 33,
      "outputs": [
        {
          "output_type": "stream",
          "name": "stdout",
          "text": [
            "Ingrese número 1 para la lista: 5\n",
            "Ingrese número 2 para la lista: 3\n",
            "Ingrese número 3 para la lista: 2\n",
            "Ingrese número 4 para la lista: 6\n",
            "Ingrese número 5 para la lista: 1\n",
            "Media de números: 3.4\n",
            "Mediana de números: 3\n"
          ]
        }
      ]
    }
  ]
}