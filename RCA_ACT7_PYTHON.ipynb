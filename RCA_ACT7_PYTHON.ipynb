{
  "nbformat": 4,
  "nbformat_minor": 0,
  "metadata": {
    "colab": {
      "provenance": [],
      "authorship_tag": "ABX9TyPBoSjSuYXjZ7/LFiD2aUEb",
      "include_colab_link": true
    },
    "kernelspec": {
      "name": "python3",
      "display_name": "Python 3"
    },
    "language_info": {
      "name": "python"
    }
  },
  "cells": [
    {
      "cell_type": "markdown",
      "metadata": {
        "id": "view-in-github",
        "colab_type": "text"
      },
      "source": [
        "<a href=\"https://colab.research.google.com/github/alejandroramirezcru/Lenguaje-de-programaci-n-PYTHON/blob/main/RCA_ACT7_PYTHON.ipynb\" target=\"_parent\"><img src=\"https://colab.research.google.com/assets/colab-badge.svg\" alt=\"Open In Colab\"/></a>"
      ]
    },
    {
      "cell_type": "markdown",
      "source": [
        "# **Actividad 7: Gestión de Datos con Diccionarios y Menú Interactivo**\n",
        "\n",
        "*Nombre: Alejandro Ramirez Cruz*\n",
        "\n",
        "*Matricula: 379551*\n",
        "\n",
        "*Fecha: Lunes 27 septiembre de 2025*"
      ],
      "metadata": {
        "id": "S_vO3Hpvc-CZ"
      }
    },
    {
      "cell_type": "markdown",
      "source": [
        "## Ejercicio 1: Menú Interactivo para Gestión de Alumnos\n",
        "### Descripción:\n",
        "Desarrollar un programa que permita gestionar datos de alumnos mediante un\n",
        "menú con las siguientes opciones:\n",
        "1. Leer Diccionario: Generar un diccionario con datos de un alumno, pidiendo\n",
        "al usuario los datos manualmente.\n",
        "2. Generar Diccionario: Crear un diccionario con datos de un alumno a partir\n",
        "de listas y valores aleatorios.\n",
        "3. Imprimir Diccionario: Mostrar los datos del alumno en formato de\n",
        "registro.\n",
        "4. Salir: Finalizar el programa.\n",
        "\n",
        "### Explicación del problema:\n",
        "Se requiere un sistema que permita registrar y consultar la información de\n",
        "alumnos de manera sencilla y segura. Para ello, se implementan funciones de\n",
        "validación que aseguran que los datos introducidos por el usuario sean\n",
        "correctos. Posteriormente, se crean funciones específicas para cada opción del\n",
        "menú. Además, para evitar que el programa falle ante entradas incorrectas o\n",
        "errores inesperados, se utiliza la estructura try-except.\n",
        "\n",
        "### Solución:\n",
        "La solución se implementa dividiendo el programa en bloques de funciones y un menú principal:\n",
        "\n",
        "- Validación:  \n",
        "  Se crean funciones que verifican que el usuario ingrese datos correctos.  \n",
        "  Para ello se emplea un bucle while True, que mantiene la solicitud activa hasta que la persona ingrese un valor válido.  \n",
        "  También se utilizan métodos como:\n",
        "  - .strip(): elimina espacios en blanco al inicio y al final de la cadena.  \n",
        "  - .upper(): convierte el texto a mayúsculas, útil para estandarizar respuestas como `H` o `M`.  \n",
        "\n",
        "- Gestión de alumnos:  \n",
        "  Se crean funciones que permiten leer los datos directamente del teclado, o generan información aleatoria a partir de listas predefinidas y la biblioteca random.  \n",
        "\n",
        "- Impresión:  \n",
        "  Una función muestra los datos del alumno en formato legible, utilizando f-strings para dar claridad al resultado.  \n",
        "\n",
        "- Menú principal:  \n",
        "  El programa utiliza un bucle while que mantiene activo el menú hasta que el usuario decida salir.  \n",
        "  En cada iteración se muestran las opciones y se emplea .strip() para evitar errores si el usuario agrega espacios, garantizando que la entrada sea procesada correctamente.  \n",
        "\n",
        "- Confirmación de salida:  \n",
        "  Para finalizar el programa, se solicita al usuario que confirme si desea salir (`SI` o `NO`). Se emplea `.strip()` y `.upper()` nuevamente para asegurar que, sin importar cómo escriba la respuesta, sea interpretada de forma correcta.  \n",
        "\n",
        "- Control de errores:  \n",
        "  El uso de try-except en la funciones y en el menú principal evita que el programa se interrumpa en caso de un error inesperado.  \n"
      ],
      "metadata": {
        "id": "_RvuBjgujKbf"
      }
    },
    {
      "cell_type": "code",
      "source": [
        "import random  # Importar bibloteca para las acciones aleatorias y al azar"
      ],
      "metadata": {
        "id": "ke_QDmdUdEEp"
      },
      "execution_count": 108,
      "outputs": []
    },
    {
      "cell_type": "code",
      "execution_count": 109,
      "metadata": {
        "id": "dnIGJ_QUc4vK"
      },
      "outputs": [],
      "source": [
        "# Validacion de entradas\n",
        "\n",
        "def validar_entero(mensaje): # Se usa \"mensaje\" como parametro para reutilizar la funcion y pedir difernete texto\n",
        "    while True:\n",
        "        try:\n",
        "            valor = int(input(mensaje))\n",
        "            return valor\n",
        "        except ValueError:\n",
        "            print(\"Error: Debe ingresar un número entero, intente de nuevo\")"
      ]
    },
    {
      "cell_type": "code",
      "source": [
        "def validar_nombre(mensaje):\n",
        "    while True:\n",
        "        # . strip() elimina espacios\n",
        "        nombre = input(mensaje).strip()\n",
        "        # Comprueba que la cadena no este vacia\n",
        "        if nombre:\n",
        "            return nombre\n",
        "        else:\n",
        "            print(\"Error: El nombre no puede estar vacío.\")"
      ],
      "metadata": {
        "id": "orV_coE7mumJ"
      },
      "execution_count": 110,
      "outputs": []
    },
    {
      "cell_type": "code",
      "source": [
        "def validar_edad(mensaje):\n",
        "    while True:\n",
        "        try:\n",
        "            edad = int(input(mensaje))  # Usa el parámetro mensaje\n",
        "            if edad >= 18:\n",
        "                return edad\n",
        "            else:\n",
        "                print(\"Error: La edad debe ser mayor o igual a 18 años\")\n",
        "        except ValueError:\n",
        "            print(\"Error: Debe ingresar un número entero, intente de nuevo\")"
      ],
      "metadata": {
        "id": "tkXfvtIKiqSh"
      },
      "execution_count": 111,
      "outputs": []
    },
    {
      "cell_type": "code",
      "source": [
        "def validar_sexo(mensaje):\n",
        "    while True:\n",
        "        # .strip() se usa para limpiar espacio y .upper() para convertir a mayusculas\n",
        "        sexo = input(mensaje).strip().upper()\n",
        "        if sexo in ['H','M']:\n",
        "            return sexo\n",
        "        else:\n",
        "            print(\"Error: El sexo debe ser Hombre o Mujer, intente de nuevo\")"
      ],
      "metadata": {
        "id": "L2ISTHE5kzEp"
      },
      "execution_count": 112,
      "outputs": []
    },
    {
      "cell_type": "code",
      "source": [
        "# Funcion 1: Leer datos del alumno desde el teclado\n",
        "\n",
        "def leer_diccionario():\n",
        "    print(\"\\n\" + \"=\"*100) # Crea un salto de linea y lo une a \"=\" que imprime una salida mas limpia\n",
        "    print(\"LEER DICCIONARIO: INGRESO MANUAL\")\n",
        "    print(\"\\n\")\n",
        "\n",
        "    # Solicitar datos con validacion y mensaje de c/u\n",
        "    id_alumno = validar_entero(\"Ingrese ID: \")\n",
        "    nombre = validar_nombre(\"Ingrese nombre(s) 1-2: \")\n",
        "    apellido_paterno = validar_nombre(\"Ingrese apellido paterno: \")\n",
        "    apellido_materno = validar_nombre(\"Ingrese apellido materno: \")\n",
        "    edad = validar_edad(\"Ingrese edad: \")\n",
        "    sexo = validar_sexo(\"Ingrese sexo (H/M): \")\n",
        "\n",
        "    # Crear lista con los datos\n",
        "    lista_datos = [id_alumno, nombre, apellido_paterno, apellido_materno, edad, sexo]\n",
        "\n",
        "    # Crear diccionario a partir de las lista\n",
        "    # Utiliza [#] donde cada clave esta guardada en esa posición de la lista\n",
        "    diccionario_alumno = {\n",
        "    'ID': lista_datos[0],\n",
        "    'Nombre': lista_datos[1],\n",
        "    'Apellido paterno': lista_datos[2],\n",
        "    'Apellido materno': lista_datos[3],\n",
        "    'Edad': lista_datos[4],\n",
        "    'Sexo': lista_datos[5],\n",
        "    }\n",
        "\n",
        "    print(\"¡Diccionario creado exitosamente!\")\n",
        "    return diccionario_alumno"
      ],
      "metadata": {
        "id": "Mq309tb4nY1T"
      },
      "execution_count": 113,
      "outputs": []
    },
    {
      "cell_type": "code",
      "source": [
        "# Función 2: Generar Diccionario con datos automáticamente\n",
        "\n",
        "def generar_diccionario():\n",
        "    print(\"\\n\" + \"=\"*100) # Crea un salto de linea y lo une a \"=\" que imprime una salida mas limpia\n",
        "    print(\"GENERAR DICCIONARIO: DATOS AUTOMÁTICOS\")\n",
        "    print(\"\\n\")\n",
        "\n",
        "    # Creación de listas con datos para generar automaticamente\n",
        "    nombres = [\"Cristiano Ronaldo\", \"Lionel Andres\", \"Neymar\", \"Alisha\", \"Sofía\", \"Ericka\", \"Andrea\"]\n",
        "    apellidos_paternos = [\"Dos Santos\", \"Messi\",\" Da Silva\",\"Martinez\", \"Gonzales\", \"Perez\", \"López\"]\n",
        "    apellidos_maternos = [\"Aveiro\", \"Cuccittini\", \"Santos\", \"Sanchéz\", \"Torres\", \"García\", \"Ramirez\"]\n",
        "    sexos = [\"H\",\"M\"]\n",
        "\n",
        "    # Generación de datos aleatorios\n",
        "    id_alumno = random.randint(1000,4000)\n",
        "    nombre = random.choice(nombres)\n",
        "    apellido_paterno = random.choice(apellidos_paternos)\n",
        "    apellido_materno = random.choice(apellidos_maternos)\n",
        "    edad = random.randint(18,32)\n",
        "    sexo = random.choice(sexos)\n",
        "\n",
        "\n",
        "    # Crear lista con los datos\n",
        "    lista_datos = [id_alumno, nombre, apellido_paterno, apellido_materno, edad, sexo]\n",
        "\n",
        "    # Crear diccionario a partir de las lista\n",
        "    # Utiliza [#] donde cada clave esta guardada en esa posición de la lista\n",
        "    diccionario_alumno = {\n",
        "    'ID': lista_datos[0],\n",
        "    'Nombre': lista_datos[1],\n",
        "    'Apellido paterno': lista_datos[2],\n",
        "    'Apellido materno': lista_datos[3],\n",
        "    'Edad': lista_datos[4],\n",
        "    'Sexo': lista_datos[5],\n",
        "    }\n",
        "\n",
        "    print(\"¡Diccionario creado exitosamente!\")\n",
        "    return diccionario_alumno"
      ],
      "metadata": {
        "id": "r0fVZUVGsLo8"
      },
      "execution_count": 114,
      "outputs": []
    },
    {
      "cell_type": "code",
      "source": [
        "# Funcion 3: Imprime los datos en formato legible\n",
        "\n",
        "def imprimir_diccionario(diccionario_alumno): # Se usa diccionario_alumno para imprimir esta ficha\n",
        "    print(\"\\n\" + \"=\"*100) # Crea un salto de linea y lo une a \"=\" que imprime una salida mas limpia\n",
        "    print(\"IMPRIMIR DICCIONARIO\")\n",
        "    print(\"\\n\")\n",
        "\n",
        "    # Verifica que el diccionario tenga datos disponibles\n",
        "    if diccionario_alumno:\n",
        "        print(\"=== DATOS DEL ALUMNO ===\")\n",
        "        print(f\"ID: {diccionario_alumno['ID']}\")\n",
        "        print(f\"Nombre: {diccionario_alumno['Nombre']}\")\n",
        "        print(f\"Apellidos: {diccionario_alumno['Apellido paterno']} {diccionario_alumno['Apellido materno']}\")\n",
        "        print(f\"Edad: {diccionario_alumno['Edad']}\")\n",
        "        print(f\"Sexo: {diccionario_alumno['Sexo']}\")\n",
        "    else:\n",
        "        print(\"Error: No hay datos disponibles\")"
      ],
      "metadata": {
        "id": "K8VIEo-zsGCg"
      },
      "execution_count": 115,
      "outputs": []
    },
    {
      "cell_type": "code",
      "source": [
        "# Funcion 4: Salir del programa\n",
        "\n",
        "def confirmar_salida():\n",
        "\n",
        "    while True:\n",
        "        # .strip() se usa para limpiar espacio y .upper() para convertir a mayusculas\n",
        "        usuario = input(\"¿Desea salir (SI/NO): \").strip().upper()\n",
        "        if usuario == 'SI':\n",
        "            return True\n",
        "        elif usuario == 'NO':\n",
        "            return False\n",
        "        else:\n",
        "            print(\"Error: Ingrese 'SI' para salir o 'NO' para continuar\")"
      ],
      "metadata": {
        "id": "dpFZzP0Y0FiZ"
      },
      "execution_count": 116,
      "outputs": []
    },
    {
      "cell_type": "code",
      "source": [
        "# Mostrar el menu interactivo\n",
        "\n",
        "def mostrar_menu():\n",
        "    print(\"\\n\" + \"=\"*100) # Crea un salto de linea y lo une a \"=\" que imprime una salida mas limpia\n",
        "    print(\"=== MENÚ ===\")\n",
        "    print(\"1. Leer Diccionario\")\n",
        "    print(\"2. Generar Diccionario\")\n",
        "    print(\"3. Imprimir Diccionario\")\n",
        "    print(\"0. Salir\")"
      ],
      "metadata": {
        "id": "7qWih6qNzcU1"
      },
      "execution_count": 117,
      "outputs": []
    },
    {
      "cell_type": "code",
      "source": [
        "# Funcion Principal\n",
        "\n",
        "def menu_principal():\n",
        "\n",
        "    # Variable que guarda la ficha del alumno. None es que esta vacia\n",
        "    diccionario_actual = None\n",
        "\n",
        "    while True:\n",
        "        try:\n",
        "            mostrar_menu()\n",
        "            opcion = input(\"Seleccione una opcion (0-3): \").strip()\n",
        "\n",
        "            if opcion == '1':\n",
        "                diccionario_actual = leer_diccionario()\n",
        "            elif opcion == '2':\n",
        "                diccionario_actual = generar_diccionario()\n",
        "            elif opcion == '3':\n",
        "                imprimir_diccionario(diccionario_actual)\n",
        "            elif opcion == '0':\n",
        "                if confirmar_salida():\n",
        "                    print(\"Gracias por usar el sistema\")\n",
        "                    break\n",
        "                else:\n",
        "                    print(\"Continuando...\")\n",
        "            else:\n",
        "                print(\"Error: Opción no valida\")\n",
        "                continue\n",
        "        except KeyboardInterrupt:\n",
        "            print(\"\\n\\n Programa interrumpido por el usuario.\")\n",
        "            break"
      ],
      "metadata": {
        "id": "Hkv73XWl2AOO"
      },
      "execution_count": 118,
      "outputs": []
    },
    {
      "cell_type": "code",
      "source": [
        "# Ejecuta el programa al ser llamada la función\n",
        "menu_principal()"
      ],
      "metadata": {
        "id": "mj1uhscf3MpD",
        "colab": {
          "base_uri": "https://localhost:8080/"
        },
        "outputId": "fa2ce12b-512d-4c6a-98fd-767a6d6620d2"
      },
      "execution_count": 119,
      "outputs": [
        {
          "output_type": "stream",
          "name": "stdout",
          "text": [
            "\n",
            "====================================================================================================\n",
            "=== MENÚ ===\n",
            "1. Leer Diccionario\n",
            "2. Generar Diccionario\n",
            "3. Imprimir Diccionario\n",
            "0. Salir\n",
            "Seleccione una opcion (0-3): 1\n",
            "\n",
            "====================================================================================================\n",
            "LEER DICCIONARIO: INGRESO MANUAL\n",
            "\n",
            "\n",
            "Ingrese ID: 379551\n",
            "Ingrese nombre(s) 1-2: Alejandro\n",
            "Ingrese apellido paterno: Ramirez\n",
            "Ingrese apellido materno: Cruz\n",
            "Ingrese edad: 18\n",
            "Ingrese sexo (H/M): H\n",
            "¡Diccionario creado exitosamente!\n",
            "\n",
            "====================================================================================================\n",
            "=== MENÚ ===\n",
            "1. Leer Diccionario\n",
            "2. Generar Diccionario\n",
            "3. Imprimir Diccionario\n",
            "0. Salir\n",
            "Seleccione una opcion (0-3): 2\n",
            "\n",
            "====================================================================================================\n",
            "GENERAR DICCIONARIO: DATOS AUTOMÁTICOS\n",
            "\n",
            "\n",
            "¡Diccionario creado exitosamente!\n",
            "\n",
            "====================================================================================================\n",
            "=== MENÚ ===\n",
            "1. Leer Diccionario\n",
            "2. Generar Diccionario\n",
            "3. Imprimir Diccionario\n",
            "0. Salir\n",
            "Seleccione una opcion (0-3): 3\n",
            "\n",
            "====================================================================================================\n",
            "IMPRIMIR DICCIONARIO\n",
            "\n",
            "\n",
            "=== DATOS DEL ALUMNO ===\n",
            "ID: 1794\n",
            "Nombre: Alisha\n",
            "Apellidos: Perez Aveiro\n",
            "Edad: 20\n",
            "Sexo: M\n",
            "\n",
            "====================================================================================================\n",
            "=== MENÚ ===\n",
            "1. Leer Diccionario\n",
            "2. Generar Diccionario\n",
            "3. Imprimir Diccionario\n",
            "0. Salir\n",
            "Seleccione una opcion (0-3): 0\n",
            "¿Desea salir (SI/NO): SI\n",
            "Gracias por usar el sistema\n"
          ]
        }
      ]
    }
  ]
}