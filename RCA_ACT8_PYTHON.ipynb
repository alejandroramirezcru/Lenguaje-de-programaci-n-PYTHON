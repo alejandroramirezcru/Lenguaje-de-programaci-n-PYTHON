{
  "nbformat": 4,
  "nbformat_minor": 0,
  "metadata": {
    "colab": {
      "provenance": [],
      "authorship_tag": "ABX9TyMSci0uwxT40Tpp+zMQ5FuW",
      "include_colab_link": true
    },
    "kernelspec": {
      "name": "python3",
      "display_name": "Python 3"
    },
    "language_info": {
      "name": "python"
    }
  },
  "cells": [
    {
      "cell_type": "markdown",
      "metadata": {
        "id": "view-in-github",
        "colab_type": "text"
      },
      "source": [
        "<a href=\"https://colab.research.google.com/github/alejandroramirezcru/Lenguaje-de-programaci-n-PYTHON/blob/main/RCA_ACT8_PYTHON.ipynb\" target=\"_parent\"><img src=\"https://colab.research.google.com/assets/colab-badge.svg\" alt=\"Open In Colab\"/></a>"
      ]
    },
    {
      "cell_type": "markdown",
      "source": [
        "# **Actividad 8: Gestión de Datos con Diccionarios y Menú Interactivo**\n",
        "\n",
        "*Nombre: Alejandro Ramirez Cruz*\n",
        "\n",
        "*Matricula: 379551*\n",
        "\n",
        "*Fecha: Lunes 6 octubre de 2025*"
      ],
      "metadata": {
        "id": "tQhGRMCRho5O"
      }
    },
    {
      "cell_type": "markdown",
      "source": [
        "## Ejercicio 1: Menú Interactivo para Gestión de Trabajadores de una Frabrica\n",
        "### Descripción:\n",
        "Sistema de gestión de empleados que permite administrar una lista de trabajadores mediante un menú interactivo, con opciones para agregar, buscar, ordenar, eliminar y visualizar empleados en diferentes formatos.\n",
        "\n",
        "### Explicación del problema:\n",
        "Desarrollar un programa que maneje información de empleados de forma eficiente, garantizando la integridad de los datos mediante validaciones. El sistema debe permitir tanto la entrada manual como automática de datos, asegurando que cada empleado tenga un ID único. Además, debe ofrecer diferentes formas de visualizar la información y operaciones básicas de gestión como ordenamiento y eliminación.\n",
        "\n",
        "### Solución:\n",
        "\n",
        "Se implementó una solución diviendo el programa en bloques de funciones y un menu princiapl.\n",
        "\n",
        "1. Uso de librerias como pandas, yaml, json y random para sus respectivas tareas como impresion y generacion de numeros aleatorios.\n",
        "\n",
        "2. Validaciones robustas para todos los campos (enteros, cadenas, edades, sexo, IDs únicos)\n",
        "\n",
        "3. Generación automática de datos usando listas predefinidas y selección aleatoria\n",
        "\n",
        "4. Múltiples formatos de salida (Pandas, YAML, JSON) seleccionados aleatoriamente\n",
        "\n",
        "5. Gestión de lista con funciones para ordenar, buscar y eliminar elementos\n",
        "\n",
        "6. Menú interactivo con control de flujo que mantiene la lista en memoria durante la sesión\n",
        "\n",
        "7. Manejo de errores para entradas inválidas y confirmaciones para operaciones destructivas\n",
        "\n",
        "El programa utiliza diccionarios para almacenar cada trabajador y listas para mantener la colección completa, con funciones especializadas para cada operación del menú.\n"
      ],
      "metadata": {
        "id": "tgSSH5Z5htQj"
      }
    },
    {
      "cell_type": "code",
      "source": [
        "!pip install pyyaml\n",
        "!pip install pandas"
      ],
      "metadata": {
        "colab": {
          "base_uri": "https://localhost:8080/"
        },
        "id": "8J0DiJg1hz8V",
        "outputId": "d618d4d5-e5d2-4092-d9d4-fda0334867a1"
      },
      "execution_count": 3,
      "outputs": [
        {
          "output_type": "stream",
          "name": "stdout",
          "text": [
            "Requirement already satisfied: pyyaml in /usr/local/lib/python3.12/dist-packages (6.0.3)\n",
            "Requirement already satisfied: pandas in /usr/local/lib/python3.12/dist-packages (2.2.2)\n",
            "Requirement already satisfied: numpy>=1.26.0 in /usr/local/lib/python3.12/dist-packages (from pandas) (2.0.2)\n",
            "Requirement already satisfied: python-dateutil>=2.8.2 in /usr/local/lib/python3.12/dist-packages (from pandas) (2.9.0.post0)\n",
            "Requirement already satisfied: pytz>=2020.1 in /usr/local/lib/python3.12/dist-packages (from pandas) (2025.2)\n",
            "Requirement already satisfied: tzdata>=2022.7 in /usr/local/lib/python3.12/dist-packages (from pandas) (2025.2)\n",
            "Requirement already satisfied: six>=1.5 in /usr/local/lib/python3.12/dist-packages (from python-dateutil>=2.8.2->pandas) (1.17.0)\n"
          ]
        }
      ]
    },
    {
      "cell_type": "code",
      "source": [
        "# IMPORTAR LIBRERIAS QUE SE USARAN PARA GENERAR NUMEROS ALEATORIOS Y PARA IMPRIMIR\n",
        "import random\n",
        "import pandas as pd\n",
        "import yaml\n",
        "import json"
      ],
      "metadata": {
        "id": "jnpwq39QiAJ1"
      },
      "execution_count": 50,
      "outputs": []
    },
    {
      "cell_type": "code",
      "source": [
        "# VALIDACIÓN DE DATOS Y ENTRADAS DEL USUARIO\n",
        "\n",
        "def verificar_lista_vacia(lista):    # Verifica si la lista esta vacia  o con datos.\n",
        "    if not lista:\n",
        "        print(\"La lista de trabajadores está vacia.\\n\")\n",
        "        return True\n",
        "    return False"
      ],
      "metadata": {
        "id": "uLEfEB2erVjC"
      },
      "execution_count": 54,
      "outputs": []
    },
    {
      "cell_type": "code",
      "source": [
        "def validar_entero(mensaje):    # Valida la entrada de numeros enteros, en campos como ID y sueldo\n",
        "    while True:\n",
        "        try:\n",
        "            entero = int(input(mensaje))\n",
        "            return entero\n",
        "        except ValueError:\n",
        "            print(\"Error: Debe ingresar un número entero...\")"
      ],
      "metadata": {
        "id": "tKcSnVJWsEjj"
      },
      "execution_count": 60,
      "outputs": []
    },
    {
      "cell_type": "code",
      "source": [
        "def validar_cadena(mensaje):   # Valida que se ingresa una cadena, o que esta no tenga número o este vacia\n",
        "    while True:\n",
        "        try:\n",
        "            cadena = input(mensaje).strip()\n",
        "            if cadena:\n",
        "                return cadena.upper()   # Regrese la cadena convertida a mayúsculas\n",
        "            else:\n",
        "                print(\"No se ha ingresado nada...\")\n",
        "        except ValueError:\n",
        "            print(\"Error: No se permiten números...\")"
      ],
      "metadata": {
        "id": "jCmTF5q_sryz"
      },
      "execution_count": 67,
      "outputs": []
    },
    {
      "cell_type": "code",
      "source": [
        "def validar_edad(mensaje):    # Valida que la edad del trabajador sea mayor o igual a 18 años según lo establecido por la Ley.\n",
        "    while True:\n",
        "        try:\n",
        "            edad = int(input(mensaje))\n",
        "            if edad >= 18:\n",
        "                return edad\n",
        "            else:\n",
        "                print(\"La edad debe ser mayor o igual a 18...\")\n",
        "        except ValueError:\n",
        "            print(\"Error: Debe ingresar un número entero\")"
      ],
      "metadata": {
        "id": "c_bp0uXYs_Ye"
      },
      "execution_count": 72,
      "outputs": []
    },
    {
      "cell_type": "code",
      "source": [
        "def validar_sexo(mensaje):    # Valida que el usario ingrese bien su tipo de sexo.\n",
        "     while True:\n",
        "        sexo = input(mensaje).strip().upper()    # Se usa upper() para convertir la cadena a mayúsculas\n",
        "        if sexo in ['H', 'M']:\n",
        "            return sexo\n",
        "        print(\"Error: El sexo debe ser 'H' (Hombre) o 'M' (Mujer).\")"
      ],
      "metadata": {
        "id": "myGgVcO6tXnT"
      },
      "execution_count": 77,
      "outputs": []
    },
    {
      "cell_type": "code",
      "source": [
        "def validar_id_unico(mensaje, lista_trabajadores):  # Valida que el id ingresado sea unico y no repetido\n",
        "    while True:\n",
        "        id_empleado = validar_entero(mensaje)\n",
        "        # Extrae todos los IDs existentes para verificar duplicados\n",
        "        ids_existentes = [trabajador['No. Empleado'] for trabajador in lista_trabajadores]\n",
        "\n",
        "        if id_empleado in ids_existentes:\n",
        "            print(\"Error: Este número de empleado ya existe. Ingrese uno diferente.\")\n",
        "        else:\n",
        "            return id_empleado  # Regresa el ID unico"
      ],
      "metadata": {
        "id": "4xchAmWzudfF"
      },
      "execution_count": 81,
      "outputs": []
    },
    {
      "cell_type": "code",
      "source": [
        "# FUNCION GENERACIÓN Y AGREGACIÓN DE TRABAJADORES\n",
        "\n",
        "def generar_datos_automaticos():\n",
        "    nom_hombres = [\"GOKU\", \"VEGETA\", \"GOHAN\", \"TRUNKS\", \"KRILIN\", \"PICCOLO\", \"TEN SHIN HAN\", \"YAMCHA\", \"ROSHI\", \"MR. SATAN\", \"GOTEN\", \"BROLY\", \"FREEZER\", \"CELL\", \"MAJIN BUU\", \"BILLS\"]\n",
        "    nom_mujeres = [\"CHI-CHI\", \"BULMA\", \"VIDEL\", \"PAN\", \"ANDROID 18\", \"ANDROID 21\", \"CAULIFLA\", \"KALE\", \"MAI\", \"LAUNCH\", \"MARRON\",\"COCOLA\", \"PAN\", \"GINE\", \"VADOS\", \"BRA\", \"MARON\"]\n",
        "    apellidos = [\"GOMEZ\", \"HERNANDEZ\", \"LOPEZ\", \"PEREZ\", \"GARCÍA\", \"RODRIGUEZ\", \"MARTINEZ\", \"SANCHEZ\", \"DIAZ\", \"RAMIREZ\", \"CRUZ\", \"VAZQUEZ\", \"MORALES\", \"MENDOZA\", \"RUIZ\", \"GUTIERREZ\", \"ORTIZ\", \"DELGADO\"]\n",
        "    puestos = [\"GERENTE DE PRODUCCION\",\"TECNICO DE ENSAMBLAJE\", \"OPERARIO DE PRODUCCION\", \"INGENIERO DE CALIDAD\", \"TECNICO EN ELECTRONICA\", \"SUPERVISOR DE MANTENIMIENTO\",\n",
        "               \"OPERADOR DE MAQUINAS\", \"TECNICO EN MANTENIMIENTO\",\"ANALISTA DE INVENTARIOS\",\"INGENIERO DE DISEÑO\", \"JEFE DE SEGURIDAD INDUSTRIAL\",\n",
        "               \"PERSONAL DE LIMPIEZA\",\"TECNICO EN SISTEMAS\", \"GERENTE DE CALIDAD\"]\n",
        "    sueldos = [\"$1500\",\"$2000\",\"$2500\",\"$3000\",\"$3500\",\"$4000\",\"$4500\",\"$5000\",\"$5500\",\"$6000\",\"$6500\",\"$9500\",\"$10000\"]\n",
        "    # Estructura de datos del trabajador\n",
        "    claves = [\"No. Empleado\", \"Nombre\", \"A. Paterno\", \"A. Materno\", \"Edad\", \"Sexo\", \"Puesto\", \"Sueldo\"]\n",
        "\n",
        "    sexo = random.choice(['H','M'])\n",
        "    if sexo == 'H':       # Si sexo es igual a H agrega nombre de hombre, y viceversa con M\n",
        "        nombre = random.choice(nom_hombres)\n",
        "    else:\n",
        "        nombre = random.choice(nom_mujeres)\n",
        "\n",
        "    valores = [\n",
        "        random.randint(1000, 9999),      # ID único dentro del rango\n",
        "        nombre,                          # Nombre según sexo\n",
        "        random.choice(apellidos),        # Apellido paterno\n",
        "        random.choice(apellidos),        # Apellido materno\n",
        "        random.randint(18, 80),          # Edad entre 18 y 80 años\n",
        "        sexo,                            # Sexo (H o M)\n",
        "        random.choice(puestos),          # Puesto asignado aleatoriamente\n",
        "        random.choice(sueldos)           # Sueldo como cadena\n",
        "    ]\n",
        "\n",
        "    # Combina claves y valores para crear el diccionario\n",
        "    trabajador = dict(zip(claves, valores))\n",
        "    return trabajador"
      ],
      "metadata": {
        "id": "E7Myl2KgvQoS"
      },
      "execution_count": 85,
      "outputs": []
    },
    {
      "cell_type": "code",
      "source": [
        "# FUNCION PARA AGREGAR DATOS AUTOMATICOS\n",
        "\n",
        "def agregar_automatico(lista_trabajadores):  # Permite agregar varios trabajadores, con IDS unicos que no se repiten en la lista.\n",
        "    print(\"AGREGAR TRABAJADORES AUTOMÁTICAMENTE\\n\")\n",
        "    cantidad = validar_entero(\"¿Cuántos trabajadores desea agregar?: \")\n",
        "\n",
        "    for i in range(cantidad):\n",
        "        # Genera los datos automáticos\n",
        "        nuevo_trabajador = generar_datos_automaticos()\n",
        "\n",
        "        # Verificar que el ID no exista en la lista actual\n",
        "        ids_existentes = [trabajador['No. Empleado'] for trabajador in lista_trabajadores]\n",
        "        while nuevo_trabajador['No. Empleado'] in ids_existentes:\n",
        "            nuevo_trabajador = generar_datos_automaticos()\n",
        "\n",
        "        lista_trabajadores.append(nuevo_trabajador)\n",
        "\n",
        "    print(f\"Se agregaron {cantidad} trabajadores automáticamente\\n\")\n",
        "    return lista_trabajadores"
      ],
      "metadata": {
        "id": "IH9wZOYuxsar"
      },
      "execution_count": 88,
      "outputs": []
    },
    {
      "cell_type": "code",
      "source": [
        "# FUNCION AGREGAR DATOS MANUALMENTE\n",
        "\n",
        "def agregar_manual(lista_trabajadores):  # Solicita los datos de cada campo al usario para añadirlo a la lista de trabajadores\n",
        "    print(\"AGREGAR TRABAJADOR DE FORMA MANUAL\\n\")\n",
        "\n",
        "    claves = [\"No. Empleado\", \"Nombre\", \"A. Paterno\", \"A. Materno\", \"Edad\", \"Sexo\", \"Puesto\", \"Sueldo\"]\n",
        "\n",
        "    # Solicita y valida cada campo individualmente\n",
        "    id_empleado = validar_id_unico(\"Ingrese el número de empleado: \", lista_trabajadores)\n",
        "    nombre = validar_cadena(\"Ingrese nombre: \")\n",
        "    apellido_paterno = validar_cadena(\"Ingrese apellido paterno: \")\n",
        "    apellido_materno = validar_cadena(\"Ingrese apellido materno: \")\n",
        "    edad = validar_edad(\"Ingrese edad: \")\n",
        "    sexo = validar_sexo(\"Ingrese sexo (H/M): \")\n",
        "    puesto = validar_cadena(\"Ingrese puesto: \")\n",
        "    sueldo = validar_entero(\"Ingrese sueldo: $\")\n",
        "\n",
        "    valores = [id_empleado, nombre, apellido_paterno, apellido_materno, edad, sexo, puesto, f\"${sueldo}\"]\n",
        "    # Crea el diccionario del trabajador y lo agrega a la lista\n",
        "    trabajador = dict(zip(claves, valores))\n",
        "    lista_trabajadores.append(trabajador)\n",
        "\n",
        "    print(f\"Trabajador {nombre} agregado correctamente.\")\n",
        "    return lista_trabajadores"
      ],
      "metadata": {
        "id": "R84bXUmJyouF"
      },
      "execution_count": 89,
      "outputs": []
    },
    {
      "cell_type": "code",
      "source": [
        "# FUNCIONES PARA IMPRIMIR EN 3 DIFERENTES FORMATOS\n",
        "\n",
        "def imprimir_pandas(lista_trabajadores):  # Imprime la lista en formato Pandas\n",
        "    # Verifica si la lista esta vacia\n",
        "    if verificar_lista_vacia(lista_trabajadores):\n",
        "        return\n",
        "\n",
        "    print(\"\\n--- LISTA DE TRABAJADORES (PANDAS) ---\")\n",
        "    imp_panda = pd.DataFrame(lista_trabajadores)\n",
        "    print(imp_panda)"
      ],
      "metadata": {
        "id": "w_NIAT_3zzk2"
      },
      "execution_count": 92,
      "outputs": []
    },
    {
      "cell_type": "code",
      "source": [
        "def imprimir_yaml(lista_trabajadores):   # Imprime la lista en formato Yaml\n",
        "    # Verifica si la lista esta vacia\n",
        "    if verificar_lista_vacia(lista_trabajadores):\n",
        "        return\n",
        "\n",
        "    print(\"\\n--- LISTA DE TRABAJADORES (YAML) ---\")\n",
        "    print(yaml.dump(lista_trabajadores, sort_keys=False, default_flow_style=False))"
      ],
      "metadata": {
        "id": "eJzl5nT10QnU"
      },
      "execution_count": 94,
      "outputs": []
    },
    {
      "cell_type": "code",
      "source": [
        "def imprimir_json(lista_trabajadores):   # Imprime la lista en formato Json\n",
        "    # Verifica si la lista esta vacia\n",
        "    if verificar_lista_vacia(lista_trabajadores):\n",
        "        return\n",
        "\n",
        "    print(\"\\n--- LISTA DE TRABAJADORES (JSON) ---\")\n",
        "    print(json.dumps(lista_trabajadores, sort_keys=False, indent=2))"
      ],
      "metadata": {
        "id": "3Dn3TyWk0gqm"
      },
      "execution_count": 95,
      "outputs": []
    },
    {
      "cell_type": "code",
      "source": [
        "def imprimir_lista(lista_trabajadores):  # Imprime aleatoriamente la lista\n",
        "    # Verifica si la lista esta vacia\n",
        "    if verificar_lista_vacia(lista_trabajadores):\n",
        "        return\n",
        "\n",
        "    metodos = [imprimir_pandas, imprimir_yaml, imprimir_json]\n",
        "    imprimir = random.choice(metodos)  # Selección aleatoria del formato\n",
        "    imprimir(lista_trabajadores)"
      ],
      "metadata": {
        "id": "rwEdsRSW01IS"
      },
      "execution_count": 97,
      "outputs": []
    },
    {
      "cell_type": "code",
      "source": [
        "# FUNCION PARA BUSCAR ID\n",
        "\n",
        "def buscar_id_trabajador(lista_trabajadores):  # Permite buscar un trabajador por su número de empleado.\n",
        "    if verificar_lista_vacia(lista_trabajadores):\n",
        "        return\n",
        "\n",
        "    id_buscar = validar_entero(\"Ingrese el ID a buscar: \")\n",
        "\n",
        "    # Recorre la lista buscando el ID\n",
        "    for trabajador in lista_trabajadores:\n",
        "        if trabajador['No. Empleado'] == id_buscar:\n",
        "            print(\"TRABAJADOR ENCONTRADO\")\n",
        "            for clave, valor in trabajador.items():\n",
        "                print(f\"{clave}: {valor}\")\n",
        "                return\n",
        "\n",
        "    print(f\" No se encontró ningún trabajador con ID: {id_buscar}\")"
      ],
      "metadata": {
        "id": "P7h6xdYW1RZz"
      },
      "execution_count": 98,
      "outputs": []
    },
    {
      "cell_type": "code",
      "source": [
        "# FUNCION PARA ORDENAR LISTA\n",
        "\n",
        "def ordenar_lista(lista_trabajadores):  # Ordena la lista de trabajadores por su 'No. Empleado\n",
        "\n",
        "    if verificar_lista_vacia(lista_trabajadores):\n",
        "        return lista_trabajadores\n",
        "\n",
        "    ids = [t['No. Empleado'] for t in lista_trabajadores]\n",
        "\n",
        "    if ids == sorted(ids):   # Verifica si ya está ordenada antes de realizar el cambio.\n",
        "        print(\"La lista ya está ordenada por ID.\")\n",
        "        return lista_trabajadores\n",
        "\n",
        "    # Ordena usando lambda para acceder al campo 'No. Empleado'\n",
        "    lista_trabajadores.sort(key=lambda x: x['No. Empleado'])\n",
        "    print(\"Lista ordenada por ID.\")\n",
        "    return lista_trabajadores"
      ],
      "metadata": {
        "id": "N6Rmw8zz1pK3"
      },
      "execution_count": 100,
      "outputs": []
    },
    {
      "cell_type": "code",
      "source": [
        "# FUNCION PARA ELIMINAR ID\n",
        "\n",
        "def eliminar_id(lista_trabajadores):  # Elimina un trabajador de la lista por su número de empleado.\n",
        "\n",
        "    if verificar_lista_vacia(lista_trabajadores):\n",
        "        return lista_trabajadores\n",
        "\n",
        "    id_eliminar = validar_entero(\"Ingrese el ID del trabajador a eliminar: \")\n",
        "\n",
        "    # Busca el trabajador por ID\n",
        "    for i, trabajador in enumerate(lista_trabajadores):\n",
        "        if trabajador['No. Empleado'] == id_eliminar:\n",
        "            confirmar = input(f\"¿Seguro desea eliminar a {trabajador['Nombre']}? (s/n): \").lower()\n",
        "            if confirmar == 's':\n",
        "                lista_trabajadores.pop(i) # Elimina por índice\n",
        "                print(f\"Trabajador con ID {id_eliminar} eliminado correctamente.\")\n",
        "            else:\n",
        "                print(\"Eliminación cancelada.\")\n",
        "            return lista_trabajadores\n",
        "\n",
        "    print(\"No se encontró ningún trabajador con ese ID.\")\n",
        "    return lista_trabajadores"
      ],
      "metadata": {
        "id": "HObHrWux2KMK"
      },
      "execution_count": 101,
      "outputs": []
    },
    {
      "cell_type": "code",
      "source": [
        "# FUNCION PARA BORRAR TODA LA LISTA\n",
        "\n",
        "def borrar_toda_lista(lista_trabajadores):  # Elimina todos los trabajadores de la lista si lo decide el usuario\n",
        "\n",
        "    if verificar_lista_vacia(lista_trabajadores):\n",
        "        return lista_trabajadores\n",
        "\n",
        "    confirmar = input(\"¿Está seguro de borrar toda la lista? (s/n): \").lower()\n",
        "    if confirmar == 's':\n",
        "        lista_trabajadores.clear()  # Limpia toda la lista\n",
        "        print(\"Toda la lista ha sido eliminada.\")\n",
        "    else:\n",
        "        print(\"Operación cancelada.\")\n",
        "    return lista_trabajadores"
      ],
      "metadata": {
        "id": "z5QlAXHn2Pxd"
      },
      "execution_count": 103,
      "outputs": []
    },
    {
      "cell_type": "code",
      "source": [
        "# FUNCION PARA MOSTRAR MENU\n",
        "\n",
        "def mostrar_menu():  # Menu del programa\n",
        "    lista_trabajadores = []\n",
        "\n",
        "    while True:\n",
        "        print(\"\\n=== MENÚ DEL SISTEMA DE GESTIÓN DE EMPLEADOS ===\")\n",
        "        print(\"1) Agregar (automático)\")\n",
        "        print(\"2) Agregar (manual)\")\n",
        "        print(\"3) Imprimir lista\")\n",
        "        print(\"4) Buscar {ID}\")\n",
        "        print(\"5) Ordenar\")\n",
        "        print(\"6) Eliminar {ID}\")\n",
        "        print(\"7) Borrar toda la lista\")\n",
        "        print(\"0) Salir\")\n",
        "\n",
        "        opcion = validar_entero(\"Seleccione una opción: \")\n",
        "\n",
        "        if opcion == 0:\n",
        "            print(\"Programa finalizado.\")\n",
        "            break\n",
        "        elif opcion == 1:\n",
        "            lista_trabajadores = agregar_automatico(lista_trabajadores)\n",
        "        elif opcion == 2:\n",
        "            lista_trabajadores = agregar_manual(lista_trabajadores)\n",
        "        elif opcion == 3:\n",
        "            imprimir_lista(lista_trabajadores)\n",
        "        elif opcion == 4:\n",
        "            buscar_id_trabajador(lista_trabajadores)\n",
        "        elif opcion == 5:\n",
        "            lista_trabajadores = ordenar_lista(lista_trabajadores)\n",
        "        elif opcion == 6:\n",
        "            lista_trabajadores = eliminar_id(lista_trabajadores)\n",
        "        elif opcion == 7:\n",
        "            lista_trabajadores = borrar_toda_lista(lista_trabajadores)\n",
        "        else:\n",
        "            print(\"Opción no válida. Intente nuevamente.\")"
      ],
      "metadata": {
        "id": "R9xhVUXy2Sz-"
      },
      "execution_count": 104,
      "outputs": []
    },
    {
      "cell_type": "code",
      "source": [
        "# EJECUCIÓN DEL CODIGO\n",
        "if __name__ == \"__main__\":\n",
        "    mostrar_menu()"
      ],
      "metadata": {
        "colab": {
          "base_uri": "https://localhost:8080/"
        },
        "id": "OUTQ1sRG2VQD",
        "outputId": "92aae250-bd17-4fcf-d15f-6d77a78aaf2e"
      },
      "execution_count": 23,
      "outputs": [
        {
          "output_type": "stream",
          "name": "stdout",
          "text": [
            "\n",
            "=== MENÚ DEL SISTEMA DE GESTIÓN DE EMPLEADOS ===\n",
            "1) Agregar (automático)\n",
            "2) Agregar (manual)\n",
            "3) Imprimir lista\n",
            "4) Buscar {ID}\n",
            "5) Ordenar\n",
            "6) Eliminar {ID}\n",
            "7) Borrar toda la lista\n",
            "0) Salir\n",
            "Seleccione una opción: 1\n",
            "AGREGAR TRABAJADORES AUTOMÁTICAMENTE\n",
            "\n",
            "¿Cuántos trabajadores desea agregar?: 5\n",
            "Se agregaron 5 trabajadores automáticamente\n",
            "\n",
            "\n",
            "=== MENÚ DEL SISTEMA DE GESTIÓN DE EMPLEADOS ===\n",
            "1) Agregar (automático)\n",
            "2) Agregar (manual)\n",
            "3) Imprimir lista\n",
            "4) Buscar {ID}\n",
            "5) Ordenar\n",
            "6) Eliminar {ID}\n",
            "7) Borrar toda la lista\n",
            "0) Salir\n",
            "Seleccione una opción: 2\n",
            "AGREGAR TRABAJADOR DE FORMA MANUAL\n",
            "\n",
            "Ingrese el número de empleado: 379551\n",
            "Ingrese nombre: Alejandro\n",
            "Ingrese apellido paterno: Ramirez\n",
            "Ingrese apellido materno: Cruz\n",
            "Ingrese edad: 18\n",
            "Ingrese sexo (H/M): H\n",
            "Ingrese puesto: Ingeniero en computación\n",
            "Ingrese sueldo: $7500\n",
            "Trabajador ALEJANDRO agregado correctamente.\n",
            "\n",
            "=== MENÚ DEL SISTEMA DE GESTIÓN DE EMPLEADOS ===\n",
            "1) Agregar (automático)\n",
            "2) Agregar (manual)\n",
            "3) Imprimir lista\n",
            "4) Buscar {ID}\n",
            "5) Ordenar\n",
            "6) Eliminar {ID}\n",
            "7) Borrar toda la lista\n",
            "0) Salir\n",
            "Seleccione una opción: 3\n",
            "\n",
            "--- LISTA DE TRABAJADORES (PANDAS) ---\n",
            "   No. Empleado      Nombre A. Paterno A. Materno  Edad Sexo  \\\n",
            "0          5945  ANDROID 18   MARTINEZ    SANCHEZ    61    M   \n",
            "1          7234       GOTEN     GARCÍA      GOMEZ    60    H   \n",
            "2          5032       VADOS  HERNANDEZ  RODRIGUEZ    40    M   \n",
            "3          2824        GOKU    MORALES  GUTIERREZ    37    H   \n",
            "4          5783  ANDROID 18     GARCÍA       RUIZ    41    M   \n",
            "5        379551   ALEJANDRO    RAMIREZ       CRUZ    18    H   \n",
            "\n",
            "                        Puesto Sueldo  \n",
            "0         OPERADOR DE MAQUINAS  $3500  \n",
            "1         OPERADOR DE MAQUINAS  $4500  \n",
            "2  SUPERVISOR DE MANTENIMIENTO  $6500  \n",
            "3        GERENTE DE PRODUCCION  $1500  \n",
            "4          INGENIERO DE DISEÑO  $4000  \n",
            "5     INGENIERO EN COMPUTACIÓN  $7500  \n",
            "\n",
            "=== MENÚ DEL SISTEMA DE GESTIÓN DE EMPLEADOS ===\n",
            "1) Agregar (automático)\n",
            "2) Agregar (manual)\n",
            "3) Imprimir lista\n",
            "4) Buscar {ID}\n",
            "5) Ordenar\n",
            "6) Eliminar {ID}\n",
            "7) Borrar toda la lista\n",
            "0) Salir\n",
            "Seleccione una opción: 4\n",
            "Ingrese el ID a buscar: 379551\n",
            "TRABAJADOR ENCONTRADO\n",
            "No. Empleado: 379551\n",
            "\n",
            "=== MENÚ DEL SISTEMA DE GESTIÓN DE EMPLEADOS ===\n",
            "1) Agregar (automático)\n",
            "2) Agregar (manual)\n",
            "3) Imprimir lista\n",
            "4) Buscar {ID}\n",
            "5) Ordenar\n",
            "6) Eliminar {ID}\n",
            "7) Borrar toda la lista\n",
            "0) Salir\n",
            "Seleccione una opción: 5\n",
            "Lista ordenada por ID.\n",
            "\n",
            "=== MENÚ DEL SISTEMA DE GESTIÓN DE EMPLEADOS ===\n",
            "1) Agregar (automático)\n",
            "2) Agregar (manual)\n",
            "3) Imprimir lista\n",
            "4) Buscar {ID}\n",
            "5) Ordenar\n",
            "6) Eliminar {ID}\n",
            "7) Borrar toda la lista\n",
            "0) Salir\n",
            "Seleccione una opción: 6\n",
            "Ingrese el ID del trabajador a eliminar: 379551\n",
            "¿Seguro desea eliminar a ALEJANDRO? (s/n): s\n",
            "Trabajador con ID 379551 eliminado correctamente.\n",
            "\n",
            "=== MENÚ DEL SISTEMA DE GESTIÓN DE EMPLEADOS ===\n",
            "1) Agregar (automático)\n",
            "2) Agregar (manual)\n",
            "3) Imprimir lista\n",
            "4) Buscar {ID}\n",
            "5) Ordenar\n",
            "6) Eliminar {ID}\n",
            "7) Borrar toda la lista\n",
            "0) Salir\n",
            "Seleccione una opción: 3\n",
            "\n",
            "--- LISTA DE TRABAJADORES (YAML) ---\n",
            "- No. Empleado: 2824\n",
            "  Nombre: GOKU\n",
            "  A. Paterno: MORALES\n",
            "  A. Materno: GUTIERREZ\n",
            "  Edad: 37\n",
            "  Sexo: H\n",
            "  Puesto: GERENTE DE PRODUCCION\n",
            "  Sueldo: $1500\n",
            "- No. Empleado: 5032\n",
            "  Nombre: VADOS\n",
            "  A. Paterno: HERNANDEZ\n",
            "  A. Materno: RODRIGUEZ\n",
            "  Edad: 40\n",
            "  Sexo: M\n",
            "  Puesto: SUPERVISOR DE MANTENIMIENTO\n",
            "  Sueldo: $6500\n",
            "- No. Empleado: 5783\n",
            "  Nombre: ANDROID 18\n",
            "  A. Paterno: \"GARC\\xCDA\"\n",
            "  A. Materno: RUIZ\n",
            "  Edad: 41\n",
            "  Sexo: M\n",
            "  Puesto: \"INGENIERO DE DISE\\xD1O\"\n",
            "  Sueldo: $4000\n",
            "- No. Empleado: 5945\n",
            "  Nombre: ANDROID 18\n",
            "  A. Paterno: MARTINEZ\n",
            "  A. Materno: SANCHEZ\n",
            "  Edad: 61\n",
            "  Sexo: M\n",
            "  Puesto: OPERADOR DE MAQUINAS\n",
            "  Sueldo: $3500\n",
            "- No. Empleado: 7234\n",
            "  Nombre: GOTEN\n",
            "  A. Paterno: \"GARC\\xCDA\"\n",
            "  A. Materno: GOMEZ\n",
            "  Edad: 60\n",
            "  Sexo: H\n",
            "  Puesto: OPERADOR DE MAQUINAS\n",
            "  Sueldo: $4500\n",
            "\n",
            "\n",
            "=== MENÚ DEL SISTEMA DE GESTIÓN DE EMPLEADOS ===\n",
            "1) Agregar (automático)\n",
            "2) Agregar (manual)\n",
            "3) Imprimir lista\n",
            "4) Buscar {ID}\n",
            "5) Ordenar\n",
            "6) Eliminar {ID}\n",
            "7) Borrar toda la lista\n",
            "0) Salir\n",
            "Seleccione una opción: 7\n",
            "¿Está seguro de borrar toda la lista? (s/n): s\n",
            "Toda la lista ha sido eliminada.\n",
            "\n",
            "=== MENÚ DEL SISTEMA DE GESTIÓN DE EMPLEADOS ===\n",
            "1) Agregar (automático)\n",
            "2) Agregar (manual)\n",
            "3) Imprimir lista\n",
            "4) Buscar {ID}\n",
            "5) Ordenar\n",
            "6) Eliminar {ID}\n",
            "7) Borrar toda la lista\n",
            "0) Salir\n",
            "Seleccione una opción: 0\n",
            "Programa finalizado.\n"
          ]
        }
      ]
    }
  ]
}