{
  "nbformat": 4,
  "nbformat_minor": 0,
  "metadata": {
    "colab": {
      "provenance": [],
      "authorship_tag": "ABX9TyMPNkdUsRr6YaDH5eNA1GNW",
      "include_colab_link": true
    },
    "kernelspec": {
      "name": "python3",
      "display_name": "Python 3"
    },
    "language_info": {
      "name": "python"
    }
  },
  "cells": [
    {
      "cell_type": "markdown",
      "metadata": {
        "id": "view-in-github",
        "colab_type": "text"
      },
      "source": [
        "<a href=\"https://colab.research.google.com/github/alejandroramirezcru/Lenguaje-de-programaci-n-PYTHON/blob/main/RCA_ACT6_PYTHON.ipynb\" target=\"_parent\"><img src=\"https://colab.research.google.com/assets/colab-badge.svg\" alt=\"Open In Colab\"/></a>"
      ]
    },
    {
      "cell_type": "markdown",
      "source": [
        "# **Actividad 6: Búsqueda de números con listas y random**\n",
        "*Nombre: Alejandro Ramirez Cruz*\n",
        "\n",
        "*Matricula: 379551*\n",
        "\n",
        "*Fecha: Lunes 18 septiembre de 2025*"
      ],
      "metadata": {
        "id": "4um-zAxeFiOq"
      }
    },
    {
      "cell_type": "markdown",
      "source": [
        "## Ejercicio 1: Adivina el número (3 intentos)\n",
        "### Descripción:\n",
        "Crear un juego donde el usuario adivine un número aleatorio entre 1 y 10. El usuario tiene 3 intentos. Al finalizar, mostrar cuántas veces ganó o perdió.\n",
        "\n",
        "###[Explicación del problema]:\n",
        "1. Generar un número aleatorio.\n",
        "2. Pedir al usuario que adivine el número (3 intentos máx.).\n",
        "3. Validar si el número es correcto o dar pistas (\"mayor/menor\").\n",
        "4. Al finalizar, preguntar si desea jugar de nuevo.\n",
        "\n",
        "\n",
        "### Solución:\n",
        "\n",
        "El juego de “Adivina el número” se resolvió usando la librería random, que genera un número aleatorio del 1 al 10. Con un ciclo while se controla que el jugador tenga tres intentos para adivinarlo, y otro ciclo externo controlado por bandera que permite repetir la partida si así lo quiere. Además, se usan condicionales para dar pistas al usuario, indicando si el número buscado es mayor o menor al que escribió.\n",
        "\n",
        "También se lleva un marcador de victorias y derrotas que se actualiza al final de cada ronda. Para evitar errores si el usuario escribe letras u otros símbolos, se agregó un bloque try-except y validaciones que solo aceptan números entre 1 y 10. En conjunto, el programa mezcla aleatoriedad, ciclos y validación de entradas para hacer un juego simple, dinámico y entretenido.\n"
      ],
      "metadata": {
        "id": "dpZCkAotwsKB"
      }
    },
    {
      "cell_type": "code",
      "source": [
        "import random    #Importar biblioteca Random para generar números aleatorios"
      ],
      "metadata": {
        "id": "7igU5t6Fxr4i"
      },
      "execution_count": 51,
      "outputs": []
    },
    {
      "cell_type": "code",
      "source": [
        "def adivina_numero():   # Función para adivinar un número\n",
        "    victorias = 0\n",
        "    derrotas = 0\n",
        "    jugar = \"si\"  # Bandera para repetir el juego\n",
        "\n",
        "    # Ciclo while que se repite, si el usario quiere jugar de nuevo\n",
        "    while jugar.lower() == \"si\":\n",
        "        aleatorio = random.randint(1, 10)  # Número aleatorio a adivinar\n",
        "        intentos = 3   # Intentos disponibles\n",
        "        i = 0\n",
        "\n",
        "        print(\"\\n¡Adivina el número entre 1 y 10!\")\n",
        "\n",
        "        while intentos > 0:\n",
        "            try:\n",
        "                numero = int(input(f\"Intento {i+1}: \"))\n",
        "            except ValueError:\n",
        "                print(\"Error: ingresa un número válido\")\n",
        "                continue  # Vuelve a pedir número sin restar intentos\n",
        "\n",
        "            if not 1 <= numero <= 10:\n",
        "                print(\"Número fuera del rango, intenta entre 1 y 10\")\n",
        "                continue # Vuelve a pedir número sin gastar intento\n",
        "            i += 1\n",
        "\n",
        "            if numero == aleatorio:\n",
        "                print(\"¡Ganaste!\")\n",
        "                victorias += 1\n",
        "                break   # Termina la partida si gana\n",
        "            elif numero < aleatorio:\n",
        "                print(\"El número es mayor.\")\n",
        "            else:\n",
        "                print(\"El número es menor.\")\n",
        "\n",
        "            intentos -= 1  # Resta un intento cada que falla\n",
        "\n",
        "        else:\n",
        "            # Se ejecuta si se gastan todos los intentos sin acertar\n",
        "            print(f\"Has perdido todos tus intentos. El número era {aleatorio}\")\n",
        "            derrotas += 1\n",
        "\n",
        "        # Imprime el marcador\n",
        "        print(f\"\\nJuegos ganados: {victorias} | Perdidos: {derrotas}\")\n",
        "\n",
        "        # Pregunta al usuario si desea jugar otra vez\n",
        "        jugar = input(\"¿Quieres jugar otra vez? (si/no): \")"
      ],
      "metadata": {
        "id": "EDNVOlmB9CnC"
      },
      "execution_count": 54,
      "outputs": []
    },
    {
      "cell_type": "code",
      "source": [
        "# Llamado a la funcion y ejecuta el juego\n",
        "adivina_numero()"
      ],
      "metadata": {
        "id": "_O5pDvwTT1X3",
        "colab": {
          "base_uri": "https://localhost:8080/"
        },
        "outputId": "a624266d-43b8-4d72-f836-cf3461f70746"
      },
      "execution_count": 16,
      "outputs": [
        {
          "name": "stdout",
          "output_type": "stream",
          "text": [
            "\n",
            "¡Adivina el número entre 1 y 10!\n",
            "Intento 1: 5\n",
            "El número es menor.\n",
            "Intento 2: 3\n",
            "¡Ganaste!\n",
            "\n",
            "Juegos ganados: 1 | Perdidos: 0\n",
            "¿Quieres jugar otra vez? (si/no): si\n",
            "\n",
            "¡Adivina el número entre 1 y 10!\n",
            "Intento 1: 9\n",
            "¡Ganaste!\n",
            "\n",
            "Juegos ganados: 2 | Perdidos: 0\n",
            "¿Quieres jugar otra vez? (si/no): si\n",
            "\n",
            "¡Adivina el número entre 1 y 10!\n",
            "Intento 1: 3\n",
            "El número es mayor.\n",
            "Intento 2: 6\n",
            "El número es mayor.\n",
            "Intento 3: 5\n",
            "El número es mayor.\n",
            "Has perdido todos tus intentos. El número era 9\n",
            "\n",
            "Juegos ganados: 2 | Perdidos: 1\n",
            "¿Quieres jugar otra vez? (si/no): si\n",
            "\n",
            "¡Adivina el número entre 1 y 10!\n",
            "Intento 1: 9\n",
            "El número es menor.\n",
            "Intento 2: 6\n",
            "El número es mayor.\n",
            "Intento 3: 8\n",
            "¡Ganaste!\n",
            "\n",
            "Juegos ganados: 3 | Perdidos: 1\n",
            "¿Quieres jugar otra vez? (si/no): si\n",
            "\n",
            "¡Adivina el número entre 1 y 10!\n",
            "Intento 1: 5\n",
            "El número es menor.\n",
            "Intento 2: 7\n",
            "El número es menor.\n",
            "Intento 3: 3\n",
            "El número es menor.\n",
            "Has perdido todos tus intentos. El número era 1\n",
            "\n",
            "Juegos ganados: 3 | Perdidos: 2\n",
            "¿Quieres jugar otra vez? (si/no): si\n",
            "\n",
            "¡Adivina el número entre 1 y 10!\n",
            "Intento 1: 8\n",
            "El número es menor.\n",
            "Intento 2: 5\n",
            "El número es menor.\n",
            "Intento 3: 2\n",
            "El número es menor.\n",
            "Has perdido todos tus intentos. El número era 1\n",
            "\n",
            "Juegos ganados: 3 | Perdidos: 3\n",
            "¿Quieres jugar otra vez? (si/no): si\n",
            "\n",
            "¡Adivina el número entre 1 y 10!\n",
            "Intento 1: 1\n",
            "El número es mayor.\n",
            "Intento 2: 6\n",
            "¡Ganaste!\n",
            "\n",
            "Juegos ganados: 4 | Perdidos: 3\n",
            "¿Quieres jugar otra vez? (si/no): no\n"
          ]
        }
      ]
    },
    {
      "cell_type": "markdown",
      "source": [
        "## Ejercicio 2: Busca número en lista (A)\n",
        "### Descripción:\n",
        "Generar una lista de 10 números aleatorios únicos (1-10). Mostrar un número\n",
        "aleatorio de la lista y pedir al usuario que adivine su índice. El usuario tiene 3\n",
        "intentos.\n",
        "###[Explicación del problema]:\n",
        "1. Usar un ciclo while y validar duplicados manualmente.\n",
        "2. Seleccionar un número aleatorio de la lista y mostrarlo.\n",
        "3. Pedir al usuario el índice donde cree que está (3 intentos).\n",
        "4. Mostrar mensajes de \"Ganaste\" o \"Perdiste\".\n",
        "\n",
        "\n",
        "### Solución:\n",
        "\n",
        "Primero, se importa la biblioteca random, que permite generar números aleatorios entre 1 y 10 para construir la lista y elegir el número que el jugador debe adivinar. Después, se crea una función que genera la lista de 10 números únicos utilizando un ciclo while y verificando que no haya duplicados; esto permite tener un conjunto fijo de números sin repeticiones. Una vez creada la lista, se selecciona un número aleatorio de esa lista con random.choice, que será el objetivo del juego.\n",
        "\n",
        "A continuación, se implementa otro ciclo while que controla los intentos del jugador, junto con estructuras de control para comparar la posición ingresada con la posición real del número. Se usan validaciones para asegurar que el usuario solo ingrese números dentro del rango permitido, y un bloque try-except para manejar errores si se ingresa un valor no numérico, evitando que el programa se detenga. Finalmente, se muestra un mensaje de victoria o derrota junto con la lista completa.\n"
      ],
      "metadata": {
        "id": "xp631lRxTO3l"
      }
    },
    {
      "cell_type": "code",
      "source": [
        "import random    #Importar biblioteca Random para generar números aleatorios"
      ],
      "metadata": {
        "id": "5csV_VA3nXFM"
      },
      "execution_count": 57,
      "outputs": []
    },
    {
      "cell_type": "code",
      "source": [
        "def llena_lista_while():   # Función que genera una lista del 1 al 10 sin duplicados con ciclo while\n",
        "    lista_numeros = []   # Lista vacia para guardar los números\n",
        "\n",
        "    # Se repite el ciclo hasta que los 10 números sean unicos\n",
        "    while len(lista_numeros) < 10:\n",
        "        num = random.randint(1, 10)   # Genera número aleatorio entre 1 y 190\n",
        "\n",
        "        if num not in lista_numeros:   # Se agrega solo si no está repetido\n",
        "            lista_numeros.append(num)\n",
        "\n",
        "    return lista_numeros      # Regresamos lista sin duplicados"
      ],
      "metadata": {
        "id": "9TWrxSLKnXYT"
      },
      "execution_count": 60,
      "outputs": []
    },
    {
      "cell_type": "code",
      "source": [
        "def juego_version_a():     # Función que genera el juego en su versión A\n",
        "    lista = llena_lista_while()    # Lista generada sin duplicados\n",
        "    num_aleatorio = random.choice(lista)\n",
        "    intentos = 3\n",
        "    i = 0\n",
        "\n",
        "    print(f\"\\n¡En una lista de 10 posiciones, encuentra el índice donde se encuentra el numero {num_aleatorio}!\")\n",
        "\n",
        "    # Ciclo while que se detiene hasta que los intentos se hayan acabados\n",
        "    while intentos > 0:\n",
        "        try:\n",
        "            posicion = int(input(f\"Intento {i+1}: \"))\n",
        "        except ValueError:\n",
        "            print(\"Error: ingresa un número válido\")\n",
        "            continue   # Vuelve a pedir sin gastar intento\n",
        "\n",
        "        if posicion < 1 or posicion > 10:    # Valida el rango permitido\n",
        "            print(\"Número fuera del rango, intenta entre 1 y 10\")\n",
        "            continue   # Vuelve a pedir sin gastar intento\n",
        "        i += 1\n",
        "\n",
        "        # Verifica que el número este en la posición indicada\n",
        "        if lista[posicion-1] == num_aleatorio:\n",
        "            print(f\"¡Ganaste! el {num_aleatorio} esta en el indice {posicion}\")\n",
        "            print(f\"Lista de números generada: {lista}\")\n",
        "            break    # Termina la partida si gana\n",
        "        else:\n",
        "            intentos -= 1\n",
        "\n",
        "    else:\n",
        "        # Se ejecuta si se gastan todos los intentos sin acertar\n",
        "        indice = lista.index(num_aleatorio)   # Indice correto (1-10)\n",
        "        print(f\"Has perdido todos tus intentos. La posición del número era: {indice+1}\")\n",
        "        print(f\"Lista de números generada: {lista}\")"
      ],
      "metadata": {
        "id": "qFVqS40EnXir"
      },
      "execution_count": 64,
      "outputs": []
    },
    {
      "cell_type": "code",
      "source": [
        "# Llamado a la funcion y ejecuta el juego\n",
        "juego_version_a()"
      ],
      "metadata": {
        "colab": {
          "base_uri": "https://localhost:8080/"
        },
        "id": "cHHTVzsyndmz",
        "outputId": "283745b7-24e0-4cf3-82d5-9369814a87b5"
      },
      "execution_count": 65,
      "outputs": [
        {
          "output_type": "stream",
          "name": "stdout",
          "text": [
            "\n",
            "¡En una lista de 10 posiciones, encuentra el índice donde se encuentra el numero 4!\n",
            "Intento 1: 6\n",
            "Intento 2: 5\n",
            "Intento 3: 3\n",
            "Has perdido todos tus intentos. La posición del número era: 9\n",
            "Lista de números generada: [6, 9, 7, 2, 10, 3, 5, 1, 4, 8]\n"
          ]
        }
      ]
    },
    {
      "cell_type": "markdown",
      "source": [
        "## Ejercicio 2: Busca número en lista (B)\n",
        "### Descripción:\n",
        "Generar una lista de 10 números aleatorios únicos (1-10). Mostrar un número\n",
        "aleatorio de la lista y pedir al usuario que adivine su índice. El usuario tiene 3\n",
        "intentos.\n",
        "###[Explicación del problema]:\n",
        "1. Generar la lista con random.sample(range(1, 11), 10).\n",
        "2. Seleccionar un número aleatorio de la lista y mostrarlo.\n",
        "3. Pedir al usuario el índice donde cree que está (3 intentos).\n",
        "4. Mostrar mensajes de \"Ganaste\" o \"Perdiste\".\n",
        "\n",
        "\n",
        "### Solución:\n",
        "Primero, se importa la biblioteca random, que permite generar números aleatorios entre 1 y 10. A diferencia de la versión A , aquí se utiliza la función random.sample para crear directamente una lista de 10 números únicos sin necesidad de un ciclo while. Luego, se selecciona un número aleatorio de esa lista con random.choice, que será el objetivo que el jugador debe encontrar.\n",
        "\n",
        "El juego funciona con un ciclo while que controla los intentos disponibles (tres por partida). Se usan estructuras de control para comparar la posición ingresada por el jugador con la posición real del número. Se implementan validaciones para que el usuario solo pueda ingresar números entre 1 y 10, y un bloque try-except para manejar entradas no numéricas, evitando errores. Al final, se muestra un mensaje de victoria o derrota junto con la lista completa."
      ],
      "metadata": {
        "id": "FS8mkNrD8PhD"
      }
    },
    {
      "cell_type": "code",
      "source": [
        "import random    #Importar biblioteca Random para generar números aleatorios"
      ],
      "metadata": {
        "id": "fefUza6L_h6D"
      },
      "execution_count": 66,
      "outputs": []
    },
    {
      "cell_type": "code",
      "source": [
        "def llena_lista_sample():      # Función que genera una lista de números del 1 al 10 sin duplicados\n",
        "    lista_numeros= random.sample(range(1,11),10)   # Toma 10 números únicos del 1 al 10 en orden\n",
        "\n",
        "    return lista_numeros  # Regresamos lista sin números duplicados"
      ],
      "metadata": {
        "id": "g_HObTPV_ikj"
      },
      "execution_count": 67,
      "outputs": []
    },
    {
      "cell_type": "code",
      "source": [
        "def juego_version_b():     # Función que genera el juego en su versión B\n",
        "    lista = llena_lista_sample()        # Lista generada sin duplicados\n",
        "    num_aleatorio = random.choice(lista)\n",
        "    intentos = 3\n",
        "    i = 0\n",
        "\n",
        "    print(f\"\\n¡En una lista de 10 posiciones, encuentra el índice donde se encuentra el numero {num_aleatorio}!\")\n",
        "\n",
        "    # Ciclo while que se detiene hasta que los intentos se hayan acabados\n",
        "    while intentos > 0:\n",
        "        try:\n",
        "            posicion = int(input(f\"Intento {i+1}: \"))\n",
        "        except ValueError:\n",
        "            print(\"Error: ingresa un número válido\")\n",
        "            continue   # Vuelve a pedir sin gastar intento\n",
        "\n",
        "        if posicion < 1 or posicion > 10:    # Valida el rango permitido\n",
        "            print(\"Número fuera del rango, intenta entre 1 y 10\")\n",
        "            continue   # Vuelve a pedir sin gastar intento\n",
        "        i += 1\n",
        "\n",
        "        # Verifica que el número este en la posición indicada\n",
        "        if lista[posicion-1] == num_aleatorio:\n",
        "            print(f\"¡Ganaste! el {num_aleatorio} esta en el indice {posicion}\")\n",
        "            print(f\"Lista de números generada: {lista}\")\n",
        "            break    # Termina la partida si gana\n",
        "        else:\n",
        "            intentos -= 1\n",
        "\n",
        "    else:\n",
        "        # Se ejecuta si se gastan todos los intentos sin acertar\n",
        "        indice = lista.index(num_aleatorio)   # Indice correto (1-10)\n",
        "        print(f\"Has perdido todos tus intentos. La posición del número era: {indice+1}\")\n",
        "        print(f\"Lista de números generada: {lista}\")"
      ],
      "metadata": {
        "id": "qOabt2SQ_i6P"
      },
      "execution_count": 68,
      "outputs": []
    },
    {
      "cell_type": "code",
      "source": [
        "# Llamado a la funcion y ejecuta el juego\n",
        "juego_version_b()"
      ],
      "metadata": {
        "colab": {
          "base_uri": "https://localhost:8080/"
        },
        "id": "Q7hFe-qH_jF6",
        "outputId": "2d566daa-8a14-45f6-f122-340c6df32d22"
      },
      "execution_count": 69,
      "outputs": [
        {
          "output_type": "stream",
          "name": "stdout",
          "text": [
            "\n",
            "¡En una lista de 10 posiciones, encuentra el índice donde se encuentra el numero 4!\n",
            "Intento 1: 9\n",
            "Intento 2: 3\n",
            "Intento 3: 7\n",
            "Has perdido todos tus intentos. La posición del número era: 4\n",
            "Lista de números generada: [10, 8, 6, 4, 1, 5, 7, 2, 9, 3]\n"
          ]
        }
      ]
    },
    {
      "cell_type": "markdown",
      "source": [
        "## Ejercicio 2: Busca número en lista (C)\n",
        "### Descripción:\n",
        "Generar una lista de 10 números aleatorios únicos (1-10). Mostrar un número\n",
        "aleatorio de la lista y pedir al usuario que adivine su índice. El usuario tiene 3\n",
        "intentos.\n",
        "###[Explicación del problema]:\n",
        "1. Crear una lista ordenada y mezclarla con shuffle().\n",
        "2. Seleccionar un número aleatorio de la lista y mostrarlo.\n",
        "3. Pedir al usuario el índice donde cree que está (3 intentos).\n",
        "4. Mostrar mensajes de \"Ganaste\" o \"Perdiste\".\n",
        "\n",
        "\n",
        "### Solución:\n",
        "Primero, se importa la biblioteca random, que permite generar números aleatorios. En esta versión C, se crea una lista ordenada del 1 al 10 y luego se mezcla usando random.shuffle, lo que garantiza que todos los números estén presentes pero en un orden aleatorio, es decir sin un orden fijo. Después, se selecciona un número aleatorio de la lista con random.choice, que será el objetivo que el jugador debe encontrar.\n",
        "\n",
        "El juego utiliza un ciclo while para controlar los tres intentos disponibles. Se implementan condicionales (if-elif-else) para verificar si la posición ingresada por el jugador coincide con la del número seleccionado y dar retroalimentación. También se incluyen validaciones para asegurar que solo se ingresen números del 1 al 10 y un bloque try-except para manejar entradas no numéricas. Al final, se muestra un mensaje de victoria o derrota junto con la lista completa."
      ],
      "metadata": {
        "id": "etkCth-q_ZPs"
      }
    },
    {
      "cell_type": "code",
      "source": [
        "import random     #Importar biblioteca Random para generar números aleatorios"
      ],
      "metadata": {
        "id": "1C7YNSvP_j1U"
      },
      "execution_count": 70,
      "outputs": []
    },
    {
      "cell_type": "code",
      "source": [
        "def llena_lista_shuffle():      # Función que genera una lista de números del 1 al 10 sin duplicados\n",
        "    lista_numeros= [1,2,3,4,5,6,7,8,9,10]    # Llenamos una lista ordenada del 1 al 10 sin repetidos\n",
        "    random.shuffle(lista_numeros)   # Mezclamos la lista de manera aleatoria (sin duplicados)\n",
        "\n",
        "    return lista_numeros    # Regresamos lista con números mezclados"
      ],
      "metadata": {
        "id": "CPVb9dRc_ks2"
      },
      "execution_count": 71,
      "outputs": []
    },
    {
      "cell_type": "code",
      "source": [
        "def juego_version_c():     # Función que genera el juego en su versión C\n",
        "    lista = llena_lista_shuffle()      # Lista generada sin duplicados\n",
        "    num_aleatorio = random.choice(lista)\n",
        "    intentos = 3\n",
        "    i = 0\n",
        "\n",
        "    print(f\"\\n¡En una lista de 10 posiciones, encuentra el índice donde se encuentra el numero {num_aleatorio}!\")\n",
        "\n",
        "    # Ciclo while que se detiene hasta que los intentos se hayan acabados\n",
        "    while intentos > 0:\n",
        "        try:\n",
        "            posicion = int(input(f\"Intento {i+1}: \"))\n",
        "        except ValueError:\n",
        "            print(\"Error: ingresa un número válido\")\n",
        "            continue   # Vuelve a pedir sin gastar intento\n",
        "\n",
        "        if posicion < 1 or posicion > 10:    # Valida el rango permitido\n",
        "            print(\"Número fuera del rango, intenta entre 1 y 10\")\n",
        "            continue   # Vuelve a pedir sin gastar intento\n",
        "        i += 1\n",
        "\n",
        "        # Verifica que el número este en la posición indicada\n",
        "        if lista[posicion-1] == num_aleatorio:\n",
        "            print(f\"¡Ganaste! el {num_aleatorio} esta en el indice {posicion}\")\n",
        "            print(f\"Lista de números generada: {lista}\")\n",
        "            break    # Termina la partida si gana\n",
        "        else:\n",
        "            intentos -= 1\n",
        "\n",
        "    else:\n",
        "        # Se ejecuta si se gastan todos los intentos sin acertar\n",
        "        indice = lista.index(num_aleatorio)   # Indice correto (1-10)\n",
        "        print(f\"Has perdido todos tus intentos. La posición del número era: {indice+1}\")\n",
        "        print(f\"Lista de números generada: {lista}\")"
      ],
      "metadata": {
        "id": "modPe7W6_k6B"
      },
      "execution_count": 72,
      "outputs": []
    },
    {
      "cell_type": "code",
      "source": [
        "# Llamado a la funcion y ejecuta el juego\n",
        "juego_version_c()"
      ],
      "metadata": {
        "colab": {
          "base_uri": "https://localhost:8080/"
        },
        "id": "tF7AwoeV_lEA",
        "outputId": "aedd13d8-26bb-4cba-af02-5de7067b6ca3"
      },
      "execution_count": 73,
      "outputs": [
        {
          "output_type": "stream",
          "name": "stdout",
          "text": [
            "\n",
            "¡En una lista de 10 posiciones, encuentra el índice donde se encuentra el numero 9!\n",
            "Intento 1: 5\n",
            "Intento 2: 6\n",
            "Intento 3: 8\n",
            "Has perdido todos tus intentos. La posición del número era: 4\n",
            "Lista de números generada: [10, 1, 5, 9, 3, 7, 4, 6, 2, 8]\n"
          ]
        }
      ]
    },
    {
      "cell_type": "markdown",
      "source": [
        "## **CONCLUSIONES**"
      ],
      "metadata": {
        "id": "99-d_hDAdwlN"
      }
    },
    {
      "cell_type": "markdown",
      "source": [
        "En esta práctica se profundizó el uso del módulo random y la manipulación de listas sin duplicados, lo cual permitió desarrollar juegos interactivos con múltiples intentos y validación de entradas. Comprendí que las listas facilitan la organización y legibilidad del código, y que algunas funciones simplifican tareas complejas mientras que otras requieren un razonamiento lógico para funcionar correctamente.\n",
        "Además, el manejo de números aleatorios y rangos con range() ofrece herramientas eficientes para resolver problemas. La aplicación de comentarios y buenas prácticas de documentación ayudó a comprender mejor la lógica del programa, fortaleciendo mis habilidades técnicas y mi capacidad para estructurar soluciones de manera clara y organizada.\n"
      ],
      "metadata": {
        "id": "swhIERJpeNmh"
      }
    }
  ]
}