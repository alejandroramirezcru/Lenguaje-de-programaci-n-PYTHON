{
  "cells": [
    {
      "cell_type": "markdown",
      "metadata": {
        "id": "amM3wlsQSeNE"
      },
      "source": [
        "# **Actividad 4: Control de flujo PYTHON con funciones y excepciones**\n",
        "*Nombre: Alejandro Ramirez Cruz*\n",
        "\n",
        "*Matricula: 379551*\n",
        "\n",
        "*Fecha: Lunes 08 septiembre de 2025*"
      ]
    },
    {
      "cell_type": "markdown",
      "metadata": {
        "id": "IrLl1Q-yTAXP"
      },
      "source": [
        "## Ejercicio 1: Números aleatorios par e impar\n",
        "### Descripción:\n",
        "Generar 40 números aleatorios entre 0 y 200. Desplegar los números y clasificarlos como \"par\" o \"impar\".\n",
        "\n",
        "###[Explicación del problema]:\n",
        "Se generan 40 números aleatorios entre 0-200, luego se imprimen dichos números y se clasifican en pares e impares segun el caso del número, al final se contabiliza el total de c/u.\n",
        "\n",
        "### Solución:\n",
        "Se importa la biblioteca random, la cual permite generar números aleatorios.\n",
        "Mediante un ciclo for se generan 40 números aleatorios en el rango de 0 a 200.\n",
        "Cada número se valida para determinar si es par o impar, y con ayuda de contadores (para contar la cantidad) y acumuladores (para sumar los valores) se van registrando los resultados.\n",
        "Además, los números se guardan en listas separadas: una para pares y otra para impares.\n",
        "Finalmente, el programa imprime:\n",
        "\n",
        "La lista completa de números generados.\n",
        "\n",
        "Los números clasificados en pares e impares.\n",
        "\n",
        "El total y la suma de pares.\n",
        "\n",
        "El total y la suma de impares."
      ]
    },
    {
      "cell_type": "code",
      "execution_count": 23,
      "metadata": {
        "id": "DwUxnSRAKyJa"
      },
      "outputs": [],
      "source": [
        "import random   # Importar la librería para generar números aleatorios"
      ]
    },
    {
      "cell_type": "code",
      "execution_count": 24,
      "metadata": {
        "id": "hnNMvMxzMY_X"
      },
      "outputs": [],
      "source": [
        "def numeros_aleatorios():     #Funcion creada\n",
        "    # Contadores\n",
        "    par = 0\n",
        "    impar = 0\n",
        "\n",
        "    # Acumuladores de sumas\n",
        "    suma_par = 0\n",
        "    suma_impar = 0\n",
        "\n",
        "    # Listas para almacenar los números\n",
        "    numeros = []          # Lista con todos los números generados\n",
        "    lista_pares = []      # Lista solo para los pares\n",
        "    lista_impares = []    # Lista solo para los impares\n",
        "\n",
        "    # Generar 40 números aleatorios\n",
        "    for i in range(40):\n",
        "        num_random = random.randint(0, 200)   # Genera un número aleatorio entre 0 y 200\n",
        "        numeros.append(num_random)            # Agrega el número generado a la lista \"numeros\"\n",
        "\n",
        "        # Clasificar entre par o impar\n",
        "        if num_random % 2 == 0:\n",
        "            par += 1                          # Contador de pares\n",
        "            suma_par += num_random            # Acumula la suma de pares\n",
        "            lista_pares.append(num_random)    # Guarda el número en la lista de pares\n",
        "        else:\n",
        "            impar += 1                        # Contador de impares\n",
        "            suma_impar += num_random          # Acumula la suma de impares\n",
        "            lista_impares.append(num_random)  # Guarda el número en la lista de impares\n",
        "\n",
        "    # Mostrar resultados\n",
        "    print(\"=== NÚMEROS GENERADOS ===\")\n",
        "    print(numeros)\n",
        "    print(\"\\n=== CLASIFICACIÓN ===\")\n",
        "    print(\"Pares: \", lista_pares)\n",
        "    print(\"Impares:\", lista_impares)\n",
        "\n",
        "    print(\"\\n=== RESULTADOS ===\")\n",
        "    print(f\"Total de pares: {par}\")\n",
        "    print(f\"Total de impares: {impar}\")\n",
        "    print(f\"Suma de pares: {suma_par}\")\n",
        "    print(f\"Suma de impares: {suma_impar}\")\n"
      ]
    },
    {
      "cell_type": "code",
      "execution_count": 25,
      "metadata": {
        "colab": {
          "base_uri": "https://localhost:8080/"
        },
        "id": "bSLALyO_K3b_",
        "outputId": "0c9fcd4e-5381-41e6-dfbd-d1055beeab96"
      },
      "outputs": [
        {
          "output_type": "stream",
          "name": "stdout",
          "text": [
            "=== NÚMEROS GENERADOS ===\n",
            "[5, 11, 65, 47, 153, 8, 121, 16, 82, 91, 63, 185, 69, 15, 172, 54, 84, 43, 60, 183, 27, 5, 186, 153, 84, 5, 151, 187, 175, 30, 121, 164, 172, 62, 44, 189, 119, 181, 95, 180]\n",
            "\n",
            "=== CLASIFICACIÓN ===\n",
            "Pares:  [8, 16, 82, 172, 54, 84, 60, 186, 84, 30, 164, 172, 62, 44, 180]\n",
            "Impares: [5, 11, 65, 47, 153, 121, 91, 63, 185, 69, 15, 43, 183, 27, 5, 153, 5, 151, 187, 175, 121, 189, 119, 181, 95]\n",
            "\n",
            "=== RESULTADOS ===\n",
            "Total de pares: 15\n",
            "Total de impares: 25\n",
            "Suma de pares: 1398\n",
            "Suma de impares: 2459\n"
          ]
        }
      ],
      "source": [
        "numeros_aleatorios()        # Mandar a llamar la función"
      ]
    },
    {
      "cell_type": "markdown",
      "source": [
        "## Ejercicio 2: Tabla de Multiplicar\n",
        "### Descripción:\n",
        "Desplegar la tabla de mutiplicar de un numero dado entre 1 y 20.\n",
        "\n",
        "###[Explicación del problema]:\n",
        "Se solicita al usuario un número comprendido entre 1 y 20. Luego, se valida que el número ingresado esté dentro del rango permitido.\n",
        "Si es válido, mediante un ciclo for se generan los múltiplos del número, mostrando su tabla de multiplicar desde 1 hasta 10.\n",
        "Finalmente, se despliega en pantalla la tabla correspondiente. En caso de que el número no esté en el rango, el programa indica que el valor ingresado es inválido.\n",
        "\n",
        "### Solución:\n",
        "El programa solicita al usuario ingresar un número entre 1 y 20, que corresponde a la tabla de multiplicar que desea visualizar.\n",
        "Primero se valida que el número ingresado esté dentro del rango permitido.\n",
        "Si es correcto, mediante un ciclo for se generan y muestran en pantalla las multiplicaciones del número elegido desde 1 hasta 10.\n",
        "En caso de que el valor no se encuentre dentro del rango, el programa muestra un mensaje de error indicando que el número está fuera de los límites establecidos."
      ],
      "metadata": {
        "id": "9-9iJ1AfHHbh"
      }
    },
    {
      "cell_type": "code",
      "execution_count": 46,
      "metadata": {
        "id": "AD-ExU_GMbxJ"
      },
      "outputs": [],
      "source": [
        "def tabla_multiplicar():     # Funcion creada\n",
        "\n",
        "    num = int(input(\"Ingrese su tabla deseada (1-20): \"))   #Pedir al usario la tabla deseada\n",
        "\n",
        "    if 1 <= num <= 20:     # Validar que el numero este entre el rango dado\n",
        "        for i in range(1, 11):     #Imprimir la tabla del numero elegido\n",
        "            print(f\"{num} × {i} = {num * i}\")\n",
        "    else:\n",
        "        print(\"Número fuera del rango (1-20).\")    # Si el numero esta fuera del rango se imprime el siguiente mensaje"
      ]
    },
    {
      "cell_type": "code",
      "execution_count": 47,
      "metadata": {
        "colab": {
          "base_uri": "https://localhost:8080/"
        },
        "id": "UcsSWxq6LZIO",
        "outputId": "d2791638-9607-4263-ae96-808e19581f48"
      },
      "outputs": [
        {
          "output_type": "stream",
          "name": "stdout",
          "text": [
            "Ingrese su tabla deseada (1-20): 7\n",
            "7 × 1 = 7\n",
            "7 × 2 = 14\n",
            "7 × 3 = 21\n",
            "7 × 4 = 28\n",
            "7 × 5 = 35\n",
            "7 × 6 = 42\n",
            "7 × 7 = 49\n",
            "7 × 8 = 56\n",
            "7 × 9 = 63\n",
            "7 × 10 = 70\n"
          ]
        }
      ],
      "source": [
        "tabla_multiplicar()     # Mandar a llamar a la funcion"
      ]
    },
    {
      "cell_type": "markdown",
      "source": [
        "## Ejercicio 3: Validacion de calificacion\n",
        "### Descripción:\n",
        "Leer una calificación dentro del rango de 0 a 100. Si hay un error de captura,\n",
        "mostrar un mensaje de error. Con la calificación correcta, indicar si está\n",
        "\"Aprobado\" (≥ 60) o \"Reprobado\" (< 60).\n",
        "\n",
        "###[Explicación del problema]:\n",
        "Se solicita al usuario una calificación. Por medio de un bloque try-except se manejan errores de captura (por\n",
        "ejemplo, si el usuario ingresa texto en lugar de un número). Validamos que la calificación esté dentro del rango de 0 a 100. Se determina si la calificación corresponde a \"Aprobado\" o \"Reprobado\", y se desplega el resultado.\n",
        "\n",
        "### Solución:\n",
        "El programa solicita al usuario ingresar su calificación mediante la función input(). Primero se utiliza un bloque try-except para asegurarse de que el valor ingresado sea un número entero; si no lo es, se muestra un mensaje de error y la función termina.\n",
        "\n",
        "Luego, se realiza la validación de la entrada para comprobar que la calificación esté dentro del rango permitido (0 a 100). Si la calificación es válida, se utiliza un operador condicional (if-else) para determinar si el estudiante aprobó o reprobó: imprime \"Aprobado\" si la calificación es mayor o igual a 60, y \"Reprobado\" si es menor.\n",
        "\n",
        "Si la calificación ingresada está fuera del rango, se muestra un mensaje de error indicando que el número debe estar entre 0 y 100."
      ],
      "metadata": {
        "id": "d319rOrjJHBo"
      }
    },
    {
      "cell_type": "code",
      "execution_count": 28,
      "metadata": {
        "id": "rK_G362uMgOn"
      },
      "outputs": [],
      "source": [
        "def validar_cal():     # Funcion creada\n",
        "    try:\n",
        "        # Solicitar al usuario que ingrese su calificación\n",
        "        cal = int(input(\"Ingrese su calificación: \"))\n",
        "    except ValueError:\n",
        "        # Si el usuario ingresa algo que no sea un número\n",
        "        print(\"Error: Debe ingresar solo números.\")\n",
        "        return  # Termina la función si hubo error\n",
        "\n",
        "    # Validar que la calificación esté dentro del rango permitido (0-100)\n",
        "    if 0 <= cal <= 100:\n",
        "        # Verificar si el estudiante aprobó o reprobó\n",
        "        if cal >= 60:\n",
        "            print(\"Aprobado\")    # Imprime aprobado si su calificacion es mayor igual a 60\n",
        "        else:\n",
        "            print(\"Reprobado\")   # Imprime reprobado si su calificacion es menor a 60\n",
        "    else:\n",
        "        print(\"Error: la calificación debe estar entre 0 y 100.\")  # Mensaje si la calificación está fuera del rango"
      ]
    },
    {
      "cell_type": "code",
      "source": [
        "validar_cal()    # Mandar a llamar a la función"
      ],
      "metadata": {
        "id": "TUXjhykHKjYl",
        "colab": {
          "base_uri": "https://localhost:8080/"
        },
        "outputId": "c823cffc-a558-4000-8779-67ea46e6384f"
      },
      "execution_count": 29,
      "outputs": [
        {
          "output_type": "stream",
          "name": "stdout",
          "text": [
            "Ingrese su calificación: 12\n",
            "Reprobado\n"
          ]
        }
      ]
    },
    {
      "cell_type": "markdown",
      "source": [
        "## Ejercicio 4: Suma y media de numeros\n",
        "### Descripción:\n",
        "Leer n números enteros positivos. El programa terminará cuando el usuario\n",
        "introduzca el número cero. Desplegar la suma de los números y su media.\n",
        "\n",
        "###[Explicación del problema]:\n",
        "Se utliza un ciclo while para leer numeros hasta que el usuario ingrese 0. Se valida que los numeros sean positivos, se acomulan y se cuentan, despues se calcula la suma total y la media de los numeros. Finalmente se imprimen los resultados.\n",
        "\n",
        "### Solución:\n",
        "El programa solicita al usuario ingresar números enteros positivos hasta que ingrese 0, utilizando un ciclo while. Se valida con try-except que la entrada sea un número y que sea positiva; si no, se muestra un mensaje de error y se pide otro número.\n",
        "\n",
        "Cada número válido se acumula en un acumulador y se cuenta con un contador. Al finalizar, se calcula la media y se muestran la suma total, la media y la cantidad de números ingresados. Si no se ingresó ningún número válido, se indica que se intente de nuevo."
      ],
      "metadata": {
        "id": "hbz6olJYLzS4"
      }
    },
    {
      "cell_type": "code",
      "execution_count": 30,
      "metadata": {
        "id": "aUh4cqtzSIPQ"
      },
      "outputs": [],
      "source": [
        "def suma_y_media():    # Funcion creada\n",
        "    # Inicializar variables\n",
        "    suma = 0          # Acumulador para la suma de números\n",
        "    contador = 0      # Contador para la cantidad de números ingresados\n",
        "\n",
        "    while True:   # Ciclo infinito hasta que el usuario escriba 0\n",
        "        try:\n",
        "            num = int(input(\"Ingrese un número positivo (0 para terminar): \"))  # Solicita al usuario un número entero positivo\n",
        "        except ValueError:\n",
        "            print(\"Error: debe ingresar solo números enteros.\")  # Si el usuario ingresa algo que no es un número entero\n",
        "            continue   # Regresa al inicio del ciclo\n",
        "\n",
        "        if num < 0:     # Se valida que el número no sea negativo\n",
        "            print(\"Solo se permiten números positivos.\")\n",
        "            continue   # Regresa al inicio del ciclo\n",
        "\n",
        "        # Condición de salida: si el usuario ingresa 0\n",
        "        if num == 0:\n",
        "            break\n",
        "\n",
        "        # Acumular la suma y aumentar el contador\n",
        "        suma += num\n",
        "        contador += 1\n",
        "\n",
        "    if contador > 0:     # Se verifica que se ingresaron números válidos\n",
        "        media = suma / contador   # Calcular la media\n",
        "        # Mostrar resultados\n",
        "        print(f\"\\nSuma total = {suma}\")   # Imprime la suma total de los numeros\n",
        "        print(f\"Media = {media:.2f}\")   # Imprime la media de ls numeros\n",
        "        print(f\"Cantidad de números ingresados = {contador}\")  # Imprime el total de numeros ingresados\n",
        "    else:\n",
        "        print(\"\\nIntente de nuevo.\")    # Se imprime si no se ingresaron números válidos"
      ]
    },
    {
      "cell_type": "code",
      "source": [
        "suma_y_media()      # Mandar a llamar a la funcion"
      ],
      "metadata": {
        "id": "cAKnkkoLMbI4",
        "colab": {
          "base_uri": "https://localhost:8080/"
        },
        "outputId": "f5237d82-4ce9-4594-ddeb-f069ffb4f778"
      },
      "execution_count": 31,
      "outputs": [
        {
          "output_type": "stream",
          "name": "stdout",
          "text": [
            "Ingrese un número positivo (0 para terminar): 13\n",
            "Ingrese un número positivo (0 para terminar): 4\n",
            "Ingrese un número positivo (0 para terminar): 5\n",
            "Ingrese un número positivo (0 para terminar): 0\n",
            "\n",
            "Suma total = 22\n",
            "Media = 7.33\n",
            "Cantidad de números ingresados = 3\n"
          ]
        }
      ]
    },
    {
      "cell_type": "markdown",
      "source": [
        "## Ejercicio 5: Promedio de materia\n",
        "### Descripción:\n",
        "Leer el promedio de una materia. El usuario tiene un máximo de 3 oportunidades para cursar la materia. Si aprueba, felicitarlo y continuar al siguiente semestre. Si reprueba 3 veces, mostrar \"Baja Académica\".\n",
        "\n",
        "###[Explicación del problema]:\n",
        "Se solicita al usuario el promedio de la materia. Se valida que el promedio esté dentro del rango permitido (0 a 100). Mediante el uso de un ciclo for para permitir hasta 3 intentos, si el usuario aprueba (promedio ≥ 60), felicitarlo y finalizar el programa; y si el usuario reprueba 3 veces, mostrar \"Baja Académica\".\n",
        "\n",
        "### Solución:\n",
        "El programa permite al usuario ingresar su calificación hasta 3 intentos, utilizando un ciclo for. Se valida con try-except que la entrada sea un número entero; si no, se muestra un mensaje de error y se repite el intento.\n",
        "\n",
        "Cada calificación se comprueba para asegurarse de que esté dentro del rango 0-100. Si la calificación es mayor o igual a 60, se imprime un mensaje de aprobación y el programa termina. Si es menor, se indica que se reprobó y se permite otro intento.\n",
        "\n",
        "Si después de 3 intentos el usuario no aprueba, el programa muestra un mensaje de Baja Académica."
      ],
      "metadata": {
        "id": "7f6JZ-sdNx0k"
      }
    },
    {
      "cell_type": "code",
      "execution_count": 32,
      "metadata": {
        "id": "vzMoOi88Yqf_"
      },
      "outputs": [],
      "source": [
        "def prom_mat():    # Funcion creada\n",
        "    for i in range(1, 4):  # Permite un máximo de 3 intentos\n",
        "        try:\n",
        "            cal = int(input(f\"Intento {i} - Ingrese su calificación: \")) # Solicita al usuario su calificación para este intento\n",
        "        except ValueError:\n",
        "            # Captura errores si el usuario no ingresa un número entero\n",
        "            print(\"Error: Debe ingresar solo números.\")\n",
        "            continue  # No cuenta como intento válido, pide de nuevo\n",
        "\n",
        "        if 0 <= cal <= 100:     # Verifica que la calificación esté dentro del rango permitido\n",
        "            if cal >= 60:   # Verifica si la calificación  es aprobatoria\n",
        "                print(\"Felicidades, has aprobado.\")\n",
        "                return  # Termina la función si aprobó\n",
        "            else:        # Entra si la calificación no es aprobatoria\n",
        "                print(\"Reprobaste esta vez.\")\n",
        "        else:\n",
        "            # Mensaje si la calificación está fuera del rango 0-100\n",
        "            print(\"Error: la calificación debe estar entre 0 y 100.\")\n",
        "            continue  # No cuenta como intento válido\n",
        "\n",
        "    # Mensaje si no se aprueba después de 3 intentos\n",
        "    print(\"Baja Académica\")"
      ]
    },
    {
      "cell_type": "code",
      "execution_count": 33,
      "metadata": {
        "colab": {
          "base_uri": "https://localhost:8080/"
        },
        "id": "b0gGdRZZMoAn",
        "outputId": "c4df8eb0-ac67-4ec9-b343-dc8225e6caf8"
      },
      "outputs": [
        {
          "output_type": "stream",
          "name": "stdout",
          "text": [
            "Intento 1 - Ingrese su calificación: 1\n",
            "Reprobaste esta vez.\n",
            "Intento 2 - Ingrese su calificación: 23\n",
            "Reprobaste esta vez.\n",
            "Intento 3 - Ingrese su calificación: 34\n",
            "Reprobaste esta vez.\n",
            "Baja Académica\n"
          ]
        }
      ],
      "source": [
        "prom_mat()    # Mandar a llamar a la funcion"
      ]
    },
    {
      "cell_type": "markdown",
      "metadata": {
        "id": "rYoRvEW0UGrh"
      },
      "source": [
        "## Ejercicio 6: Funcion para suma, media, mayor y menor\n",
        "### Descripción:\n",
        "Crear una función que lea n números hasta que el usuario lo desee. Desplegar\n",
        "la suma, media, valor mayor y menor de los números ingresados.\n",
        "\n",
        "###[Explicación del problema]:\n",
        "Se crea una función que utilice un ciclo while para leer números hasta que\n",
        "el usuario decida detenerse. Se calcula la suma, media, valor mayor y menor de los números ingresados. Y se imprimen los resultados.\n",
        "\n",
        "### Solución:\n",
        "El programa permite ingresar números enteros hasta que se ingrese 0, usando un ciclo while y validando con try-except que sean números válidos. Cada número se acumula y se cuenta, mientras se determina el mayor y el menor. Al finalizar, si se ingresaron números, se calcula la media y se muestran el mayor, el menor y la media; si no, se indica que no se ingresaron números."
      ]
    },
    {
      "cell_type": "code",
      "execution_count": 34,
      "metadata": {
        "id": "QczsJ0nkUZXs"
      },
      "outputs": [],
      "source": [
        "def suma_media_mayor_y_menor():     # Funcion creada\n",
        "    numeros = []           # Lista para almacenar los números ingresados\n",
        "    suma = 0               # Acumulador para la suma de los números\n",
        "    contador = 0           # Contador de números ingresados\n",
        "\n",
        "    while True:            # Ciclo infinito hasta que el usuario ingrese 0\n",
        "        try:\n",
        "            num = int(input(\"Ingrese un número (0 para salir): \"))  # Solicita un número entero\n",
        "        except ValueError:\n",
        "            print(\"Error: debe ingresar un número entero.\")         # Captura errores de tipo\n",
        "            continue                                                  # Vuelve al inicio del ciclo\n",
        "\n",
        "        if num == 0:           # Condición de salida del ciclo\n",
        "            break\n",
        "\n",
        "        numeros.append(num)    # Agrega el número a la lista\n",
        "        suma += num            # Acumula la suma\n",
        "        contador += 1          # Incrementa el contador\n",
        "\n",
        "        if contador == 1:      # Inicializa mayor y menor con el primer número\n",
        "            mayor = num\n",
        "            menor = num\n",
        "        else:\n",
        "            if num > mayor:    # Actualiza el mayor si corresponde\n",
        "                mayor = num\n",
        "            if num < menor:    # Actualiza el menor si corresponde\n",
        "                menor = num\n",
        "\n",
        "    if contador > 0:           # Si se ingresaron números\n",
        "        media = suma / contador # Calcula la media\n",
        "        print(f\"El número mayor ingresado es: {mayor}\")   # Muestra el mayor\n",
        "        print(f\"El número menor ingresado es: {menor}\")   # Muestra el menor\n",
        "        print(f\"La media de los números es: {media}\")     # Muestra la media\n",
        "    else:\n",
        "        print(\"No se ingresaron números.\")               # Mensaje si no se ingresó nada"
      ]
    },
    {
      "cell_type": "code",
      "execution_count": 35,
      "metadata": {
        "colab": {
          "base_uri": "https://localhost:8080/"
        },
        "id": "K5NZMLKKW9if",
        "outputId": "6f8cd039-2415-44a5-fe5a-c898f4a27448"
      },
      "outputs": [
        {
          "output_type": "stream",
          "name": "stdout",
          "text": [
            "Ingrese un número (0 para salir): 53\n",
            "Ingrese un número (0 para salir): 5\n",
            "Ingrese un número (0 para salir): 4\n",
            "Ingrese un número (0 para salir): 0\n",
            "El número mayor ingresado es: 53\n",
            "El número menor ingresado es: 4\n",
            "La media de los números es: 20.666666666666668\n"
          ]
        }
      ],
      "source": [
        "suma_media_mayor_y_menor()    # Mandar a llamar a la funcion"
      ]
    },
    {
      "cell_type": "markdown",
      "source": [
        "## Ejercicio 7: Generacion de numeros impares\n",
        "### Descripción:\n",
        "Crear una función que genere 15 números impares entre 10 y 60 o un máximo\n",
        "de 25 números. Desplegar la media de los números pares e impares.\n",
        "\n",
        "###[Explicación del problema]:\n",
        "Se crea una función que utilice un ciclo while para leer números hasta que\n",
        "el usuario decida detenerse. Se calcula la suma, media, valor mayor y menor de los números ingresados. Y se imprimen los resultados.\n",
        "\n",
        "### Solución:\n",
        "El programa genera hasta 25 números aleatorios entre 10 y 60 usando un ciclo for y la función random.randint(). Cada número se clasifica como par o impar y se almacena en su respectiva lista.\n",
        "\n",
        "Se usan acumuladores y contadores para ir sumando y contando los números pares e impares. Cuando se alcanzan 15 números impares, el ciclo se detiene.\n",
        "\n",
        "Al final, se calculan las medias de los números pares e impares y se muestran en pantalla junto con las listas generadas."
      ],
      "metadata": {
        "id": "4WFs0EabP_BR"
      }
    },
    {
      "cell_type": "code",
      "source": [
        "import random  # Importar la libreria random para generar números aleatorios"
      ],
      "metadata": {
        "id": "1bJETaQkT3gW"
      },
      "execution_count": 36,
      "outputs": []
    },
    {
      "cell_type": "code",
      "execution_count": 37,
      "metadata": {
        "id": "s5BSTZ2OebbE"
      },
      "outputs": [],
      "source": [
        "def generar_impares():    # Funcion creada\n",
        "    impares = []          # Lista para almacenar números impares\n",
        "    pares = []            # Lista para almacenar números pares\n",
        "    suma_impares = 0      # Acumulador de números impares\n",
        "    suma_pares = 0        # Acumulador de números pares\n",
        "    contador_impares = 0  # Contador de impares\n",
        "    contador_pares = 0    # Contador de pares\n",
        "\n",
        "    for i in range(25):  # Máximo 25 intentos para generar números\n",
        "        num = random.randint(10, 60)  # Genera un número aleatorio entre 10 y 60\n",
        "\n",
        "        if num % 2 != 0:              # Verifica si el número es impar\n",
        "            impares.append(num)       # Agrega a la lista de impares\n",
        "            suma_impares += num       # Acumula la suma de impares\n",
        "            contador_impares += 1     # Incrementa el contador de impares\n",
        "\n",
        "        else:                          # Si es par\n",
        "            pares.append(num)          # Agrega a la lista de pares\n",
        "            suma_pares += num          # Acumula la suma de pares\n",
        "            contador_pares += 1        # Incrementa el contador de pares\n",
        "\n",
        "        if contador_impares == 15:    # Condición para detener si hay 15 impares\n",
        "            break\n",
        "\n",
        "    # Calcular medias\n",
        "    media_impares = suma_impares / contador_impares if contador_impares > 0 else 0  # Media de impares\n",
        "    media_pares = suma_pares / contador_pares if contador_pares > 0 else 0        # Media de pares\n",
        "\n",
        "    # Mostrar resultados\n",
        "    print(f\"Números impares generados: {impares}\")     # Lista de impares\n",
        "    print(f\"Números pares generados: {pares}\")         # Lista de pares\n",
        "    print(f\"Media de impares: {media_impares:.2f}\")    # Media de impares\n",
        "    print(f\"Media de pares: {media_pares:.2f}\")        # Media de pares"
      ]
    },
    {
      "cell_type": "code",
      "source": [
        "generar_impares()     # Mandar a llamar a la funcion"
      ],
      "metadata": {
        "id": "2CSN27OyRhKN",
        "colab": {
          "base_uri": "https://localhost:8080/"
        },
        "outputId": "f14010fa-1a34-42d3-c93e-fce65337ec49"
      },
      "execution_count": 38,
      "outputs": [
        {
          "output_type": "stream",
          "name": "stdout",
          "text": [
            "Números impares generados: [23, 19, 25, 27, 31, 59, 49, 31, 21, 39, 53]\n",
            "Números pares generados: [40, 38, 10, 60, 12, 34, 32, 60, 10, 58, 48, 32, 34, 12]\n",
            "Media de impares: 34.27\n",
            "Media de pares: 34.29\n"
          ]
        }
      ]
    },
    {
      "cell_type": "markdown",
      "source": [
        "## Ejercicio 8: Validacion de numero en rango\n",
        "### Descripción:\n",
        "Crear una función que valide un número dentro de un rango dado por el usuario.\n",
        "Repetir esta acción hasta que el usuario lo desee. Desplegar la cantidad de\n",
        "números ingresados y su promedio.\n",
        "\n",
        "###[Explicación del problema]:\n",
        "Se crea una función que solicite al usuario un número y un rango (mínimo y\n",
        "máximo), y se valida que el número esté dentro del rango especificado. Se permite al usuario repetir el proceso hasta que decida detenerse. Se calcula la cantidad de números ingresados y su promedio. Y se imprime los resultados.\n",
        "\n",
        "### Solución:\n",
        "El programa permite al usuario ingresar números dentro de un rango definido por el usuario. Se utiliza un ciclo while para pedir números hasta que se ingrese 0, y se valida con try-except que la entrada sea un número entero.\n",
        "\n",
        "Cada número dentro del rango se acumula en un total y se cuenta con un contador. Al finalizar, se muestran la suma total, el número de entradas válidas y, si corresponde, el promedio de los números válidos."
      ],
      "metadata": {
        "id": "Oxd_PgJXR2dZ"
      }
    },
    {
      "cell_type": "code",
      "execution_count": 39,
      "metadata": {
        "id": "W7rCqJnYYsvV"
      },
      "outputs": [],
      "source": [
        "def validar_numrango():         # Funcion creada\n",
        "    numeros = 0                 # Contador de números válidos ingresados\n",
        "    total_num_ingresado = 0     # Acumulador de la suma de los números válidos\n",
        "\n",
        "    try:\n",
        "        print(\"Ingrese un rango mínimo y máximo\")          # Se manda mensaje\n",
        "        min_val = int(input(\"Ingrese un valor mínimo: \"))  # Solicita el valor mínimo\n",
        "        max_val = int(input(\"Ingrese un valor máximo: \"))  # Solicita el valor máximo\n",
        "    except ValueError:\n",
        "        print(\"Error: Debe ingresar valores numéricos para el rango.\")  # Captura errores\n",
        "        return  # Termina la función si hay error en el rango\n",
        "\n",
        "    while True:  # Ciclo hasta que el usuario ingrese 0\n",
        "        try:\n",
        "            num = int(input(f\"Ingrese un número entre {min_val} y {max_val} (0 para salir): \"))  # Solicita número\n",
        "        except ValueError:\n",
        "            print(\"Error: Caracter no reconocido.\")  # Error si no es número entero\n",
        "            continue  # Vuelve a solicitar el número\n",
        "\n",
        "        if num == 0:  # Condición de salida del ciclo\n",
        "            break\n",
        "\n",
        "        if min_val <= num <= max_val:  # Verifica que el número esté dentro del rango\n",
        "            total_num_ingresado += num  # Acumula la suma\n",
        "            numeros += 1                # Incrementa el contador de válidos\n",
        "        else:\n",
        "            print(f\"El número {num} está fuera del rango definido ({min_val}-{max_val}).\")  # Mensaje de error\n",
        "\n",
        "    # Mostrar resultados\n",
        "    print(f\"\\nLa suma de los números válidos ingresados es: {total_num_ingresado}\")\n",
        "    print(f\"El total de números válidos ingresados es: {numeros}\")\n",
        "\n",
        "    if numeros > 0:  # Calcula y muestra el promedio si hay números válidos\n",
        "        promedio = total_num_ingresado / numeros\n",
        "        print(f\"El promedio de los números válidos es: {promedio:.2f}\")\n",
        "    else:\n",
        "        print(\"No se ingresaron números válidos para calcular el promedio.\")  # Mensaje si no hubo números válidos"
      ]
    },
    {
      "cell_type": "code",
      "execution_count": 40,
      "metadata": {
        "colab": {
          "base_uri": "https://localhost:8080/"
        },
        "id": "GVCibzfhfqB4",
        "outputId": "34f3b0dd-2fdb-47aa-e9b2-ecce080d6a36"
      },
      "outputs": [
        {
          "output_type": "stream",
          "name": "stdout",
          "text": [
            "Ingrese un rango mínimo y máximo\n",
            "Ingrese un valor mínimo: 1\n",
            "Ingrese un valor máximo: 100\n",
            "Ingrese un número entre 1 y 100 (0 para salir): 99\n",
            "Ingrese un número entre 1 y 100 (0 para salir): 999\n",
            "El número 999 está fuera del rango definido (1-100).\n",
            "Ingrese un número entre 1 y 100 (0 para salir): 35\n",
            "Ingrese un número entre 1 y 100 (0 para salir): 34\n",
            "Ingrese un número entre 1 y 100 (0 para salir): 34\n",
            "Ingrese un número entre 1 y 100 (0 para salir): 56\n",
            "Ingrese un número entre 1 y 100 (0 para salir): 0\n",
            "\n",
            "La suma de los números válidos ingresados es: 258\n",
            "El total de números válidos ingresados es: 5\n",
            "El promedio de los números válidos es: 51.60\n"
          ]
        }
      ],
      "source": [
        "validar_numrango()      # Mandar a llamar a la funcion"
      ]
    },
    {
      "cell_type": "markdown",
      "source": [
        "## Ejercicio 9: Area de un triangulo\n",
        "### Descripción:\n",
        "Crear una función que reciba como parámetros los valores para calcular el área\n",
        "de un triángulo y retorne su resultado.\n",
        "\n",
        "###[Explicación del problema]:\n",
        "Se crea una función que reciba como parámetros la base y la altura de un\n",
        "triángulo. Luego se calcula el área utilizando la fórmula: (base * altura) / 2 Regresa el resultado, y se llama a la función desde el programa principal y desplegar el resultado.\n",
        "\n",
        "### Solución:\n",
        "El programa calcula el área de un triángulo utilizando una función personalizada que recibe la base y la altura como parámetros. La función aplica la fórmula matemática (base * altura) / 2 y retorna el resultado.\n",
        "\n",
        "En el programa principal se solicita al usuario ingresar la base y la altura, se validan como números, se llama a la función y se muestra el área calculada en pantalla."
      ],
      "metadata": {
        "id": "KVwEP6VoTU9C"
      }
    },
    {
      "cell_type": "code",
      "source": [
        "def area_triangulo(base, altura):  # Funcion creada con los parametros\n",
        "    area = (base * altura) / 2   # Calcula el área usando la fórmula (base*altura)/2\n",
        "    return area                  # Regresa el área calculada"
      ],
      "metadata": {
        "id": "K-Tf6IV5WIQw"
      },
      "execution_count": 41,
      "outputs": []
    },
    {
      "cell_type": "code",
      "source": [
        "# Programa principal\n",
        "try:\n",
        "    base = float(input(\"Ingrese la base del triángulo: \"))     # Solicita la base\n",
        "    altura = float(input(\"Ingrese la altura del triángulo: \")) # Solicita la altura\n",
        "except ValueError:\n",
        "    print(\"Error: Debe ingresar un número válido.\")            # Captura errores si no es número\n",
        "else:\n",
        "    resultado = area_triangulo(base, altura)                  # Mandar a llamar a la función con los parámetros\n",
        "    print(f\"El área del triángulo es: {resultado:.2f}\")       # Imprime el resultado del area"
      ],
      "metadata": {
        "colab": {
          "base_uri": "https://localhost:8080/"
        },
        "id": "wciD4ZOmWIc7",
        "outputId": "663d7d8d-cb03-4a94-fc57-98e7e440c730"
      },
      "execution_count": 42,
      "outputs": [
        {
          "output_type": "stream",
          "name": "stdout",
          "text": [
            "Ingrese la base del triángulo: 10\n",
            "Ingrese la altura del triángulo: 12\n",
            "El área del triángulo es: 60.00\n"
          ]
        }
      ]
    },
    {
      "cell_type": "markdown",
      "source": [
        "## Ejercicio 10: Validacion de numero en rango\n",
        "### Descripción:\n",
        "Crear una función que valide un número dentro de un rango dado.\n",
        "\n",
        "###[Explicación del problema]:\n",
        "Se crea una función que solicite al usuario un número y un rango (mínimo y\n",
        "máximo). Se valida que el número esté dentro del rango especificado. Y se desplega un mensaje indicando si el número es válido o no.\n",
        "\n",
        "### Solución:\n",
        "El programa permite al usuario ingresar números dentro de un rango definido por el usuario. Se utiliza un ciclo while para pedir números hasta que se ingrese 0, y se valida con try-except que la entrada sea un número entero.\n"
      ],
      "metadata": {
        "id": "SswfgpAWYWOP"
      }
    },
    {
      "cell_type": "code",
      "source": [
        "def validar_num_rango():      # Funcion creada\n",
        "    try:\n",
        "        print(\"Ingrese un rango mínimo y máximo\")               # Mensaje para indicar que se va a ingresar el rango\n",
        "        min_val = int(input(\"Ingrese un valor mínimo: \"))       # Solicita el valor mínimo del rango\n",
        "        max_val = int(input(\"Ingrese un valor máximo: \"))       # Solicita el valor máximo del rango\n",
        "    except ValueError:\n",
        "        print(\"Error: Debe ingresar valores numéricos para el rango.\")  # Captura si el usuario no ingresa números\n",
        "        return                                                 # Termina la función si hay error\n",
        "\n",
        "    while True:                                                 # Ciclo infinito para ingresar números hasta salir\n",
        "        try:\n",
        "            num = int(input(f\"Ingrese un número entre {min_val} y {max_val} (0 para salir): \"))  # Solicita un número\n",
        "        except ValueError:\n",
        "            print(\"Error: Caracter no reconocido, intente de nuevo.\")  # Captura si el número no es válido\n",
        "            continue                                              # Continúa el ciclo sin evaluar nada más\n",
        "\n",
        "        if num == 0:                                            # Entra aqui si el usuario ingresa 0\n",
        "            print(\"Saliendo del programa...\")                   # Mensaje al salir del ciclo\n",
        "            break                                               # Sale del ciclo\n",
        "        elif min_val <= num <= max_val:\n",
        "            print(f\"El número {num} es válido\")                # Indica que el número ingresado está dentro del rango\n",
        "        else:\n",
        "            print(f\"El número {num} está fuera del rango definido ({min_val}-{max_val}).\")  # Indica que el número no es válido\n"
      ],
      "metadata": {
        "id": "HVqOOZtgYxgY"
      },
      "execution_count": 43,
      "outputs": []
    },
    {
      "cell_type": "code",
      "source": [
        "validar_num_rango()      # Mandar a llamar a la funcion"
      ],
      "metadata": {
        "colab": {
          "base_uri": "https://localhost:8080/"
        },
        "id": "ic63QMs_aV5P",
        "outputId": "a4613c34-5485-43c2-95ce-40d3f618b8e2"
      },
      "execution_count": 44,
      "outputs": [
        {
          "output_type": "stream",
          "name": "stdout",
          "text": [
            "Ingrese un rango mínimo y máximo\n",
            "Ingrese un valor mínimo: 1\n",
            "Ingrese un valor máximo: 100\n",
            "Ingrese un número entre 1 y 100 (0 para salir): 124\n",
            "El número 124 está fuera del rango definido (1-100).\n",
            "Ingrese un número entre 1 y 100 (0 para salir): 24\n",
            "El número 24 es válido\n",
            "Ingrese un número entre 1 y 100 (0 para salir): 45\n",
            "El número 45 es válido\n",
            "Ingrese un número entre 1 y 100 (0 para salir): 55\n",
            "El número 55 es válido\n",
            "Ingrese un número entre 1 y 100 (0 para salir): 0\n",
            "Saliendo del programa...\n"
          ]
        }
      ]
    }
  ],
  "metadata": {
    "colab": {
      "provenance": []
    },
    "kernelspec": {
      "display_name": "Python 3",
      "name": "python3"
    },
    "language_info": {
      "name": "python"
    }
  },
  "nbformat": 4,
  "nbformat_minor": 0
}
